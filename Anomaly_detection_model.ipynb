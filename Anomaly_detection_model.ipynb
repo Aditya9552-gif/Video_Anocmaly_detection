{
  "nbformat": 4,
  "nbformat_minor": 0,
  "metadata": {
    "colab": {
      "provenance": []
    },
    "kernelspec": {
      "name": "python3",
      "display_name": "Python 3"
    },
    "language_info": {
      "name": "python"
    }
  },
  "cells": [
    {
      "cell_type": "markdown",
      "source": [
        "# Anomaly detection"
      ],
      "metadata": {
        "id": "hWtgRh4JKlOk"
      }
    },
    {
      "cell_type": "code",
      "execution_count": null,
      "metadata": {
        "colab": {
          "base_uri": "https://localhost:8080/"
        },
        "id": "OtTFXduLh9BR",
        "outputId": "82ab6463-290f-412c-f6aa-a34b7016f136"
      },
      "outputs": [
        {
          "output_type": "stream",
          "name": "stdout",
          "text": [
            "Collecting opendatasets\n",
            "  Downloading opendatasets-0.1.22-py3-none-any.whl.metadata (9.2 kB)\n",
            "Requirement already satisfied: tqdm in /usr/local/lib/python3.11/dist-packages (from opendatasets) (4.67.1)\n",
            "Requirement already satisfied: kaggle in /usr/local/lib/python3.11/dist-packages (from opendatasets) (1.7.4.5)\n",
            "Requirement already satisfied: click in /usr/local/lib/python3.11/dist-packages (from opendatasets) (8.2.1)\n",
            "Requirement already satisfied: bleach in /usr/local/lib/python3.11/dist-packages (from kaggle->opendatasets) (6.2.0)\n",
            "Requirement already satisfied: certifi>=14.05.14 in /usr/local/lib/python3.11/dist-packages (from kaggle->opendatasets) (2025.7.9)\n",
            "Requirement already satisfied: charset-normalizer in /usr/local/lib/python3.11/dist-packages (from kaggle->opendatasets) (3.4.2)\n",
            "Requirement already satisfied: idna in /usr/local/lib/python3.11/dist-packages (from kaggle->opendatasets) (3.10)\n",
            "Requirement already satisfied: protobuf in /usr/local/lib/python3.11/dist-packages (from kaggle->opendatasets) (5.29.5)\n",
            "Requirement already satisfied: python-dateutil>=2.5.3 in /usr/local/lib/python3.11/dist-packages (from kaggle->opendatasets) (2.9.0.post0)\n",
            "Requirement already satisfied: python-slugify in /usr/local/lib/python3.11/dist-packages (from kaggle->opendatasets) (8.0.4)\n",
            "Requirement already satisfied: requests in /usr/local/lib/python3.11/dist-packages (from kaggle->opendatasets) (2.32.3)\n",
            "Requirement already satisfied: setuptools>=21.0.0 in /usr/local/lib/python3.11/dist-packages (from kaggle->opendatasets) (75.2.0)\n",
            "Requirement already satisfied: six>=1.10 in /usr/local/lib/python3.11/dist-packages (from kaggle->opendatasets) (1.17.0)\n",
            "Requirement already satisfied: text-unidecode in /usr/local/lib/python3.11/dist-packages (from kaggle->opendatasets) (1.3)\n",
            "Requirement already satisfied: urllib3>=1.15.1 in /usr/local/lib/python3.11/dist-packages (from kaggle->opendatasets) (2.4.0)\n",
            "Requirement already satisfied: webencodings in /usr/local/lib/python3.11/dist-packages (from kaggle->opendatasets) (0.5.1)\n",
            "Downloading opendatasets-0.1.22-py3-none-any.whl (15 kB)\n",
            "Installing collected packages: opendatasets\n",
            "Successfully installed opendatasets-0.1.22\n"
          ]
        }
      ],
      "source": [
        "pip install opendatasets"
      ]
    },
    {
      "cell_type": "code",
      "execution_count": null,
      "metadata": {
        "colab": {
          "base_uri": "https://localhost:8080/"
        },
        "id": "gsRfLrjCbeKm",
        "outputId": "38a23052-19d9-4462-c1fa-c025d75cf959"
      },
      "outputs": [
        {
          "output_type": "stream",
          "name": "stdout",
          "text": [
            "Dataset URL: https://www.kaggle.com/datasets/adityagaikwad9552/ucf-crime-splitted-i3d-features\n",
            "Downloading ucf-crime-splitted-i3d-features.zip to ./ucf-crime-splitted-i3d-features\n"
          ]
        },
        {
          "output_type": "stream",
          "name": "stderr",
          "text": [
            "100%|██████████| 2.48G/2.48G [00:28<00:00, 91.9MB/s]\n"
          ]
        },
        {
          "output_type": "stream",
          "name": "stdout",
          "text": [
            "\n"
          ]
        }
      ],
      "source": [
        "import opendatasets as od\n",
        "import zipfile\n",
        "import os\n",
        "import numpy as np\n",
        "import pandas as pd\n",
        "\n",
        "# Specify the Kaggle dataset URL\n",
        "dataset_url = 'https://www.kaggle.com/datasets/adityagaikwad9552/ucf-crime-splitted-i3d-features'\n",
        "\n",
        "# Download the dataset (will download as a zip file by default)\n",
        "od.download(dataset_url)"
      ]
    },
    {
      "cell_type": "code",
      "execution_count": null,
      "metadata": {
        "id": "cy2IjFXxbwIL"
      },
      "outputs": [],
      "source": [
        "import os\n",
        "import shutil\n",
        "import zipfile\n",
        "import numpy as np\n",
        "import pandas as pd\n",
        "from sklearn.model_selection import train_test_split\n",
        "from tqdm import tqdm\n",
        "import tensorflow as tf\n",
        "from tensorflow.keras import layers"
      ]
    },
    {
      "cell_type": "code",
      "source": [
        "Dataset = '/content/ucf-crime-splitted-i3d-features'\n",
        "\n",
        "def print_detailed_video_sequence_stats(base_dir):\n",
        "    for split in ['train', 'val', 'test']:\n",
        "        print(f\"\\n {split.upper()} SET:\")\n",
        "        split_dir = os.path.join(base_dir, split)\n",
        "\n",
        "        total_videos = 0\n",
        "        total_sequences = 0\n",
        "\n",
        "        for label in ['normal', 'anomaly']:\n",
        "            label_path = os.path.join(split_dir, label)\n",
        "            label_video_count = 0\n",
        "            label_seq_count = 0\n",
        "\n",
        "            for video in os.listdir(label_path):\n",
        "                video_path = os.path.join(label_path, video)\n",
        "                if os.path.isdir(video_path):\n",
        "                    label_video_count += 1\n",
        "                    label_seq_count += len([\n",
        "                        f for f in os.listdir(video_path) if f.endswith('.npz')\n",
        "                    ])\n",
        "\n",
        "            total_videos += label_video_count\n",
        "            total_sequences += label_seq_count\n",
        "\n",
        "            print(f\"   {label.capitalize():<8}: {label_video_count:>4} videos, {label_seq_count:>5} sequences\")\n",
        "\n",
        "        print(f\"   TOTAL     : {total_videos:>4} videos, {total_sequences:>5} sequences\")\n",
        "\n",
        "\n",
        "print_detailed_video_sequence_stats(Dataset)\n"
      ],
      "metadata": {
        "colab": {
          "base_uri": "https://localhost:8080/"
        },
        "id": "lnPpvl4CKnxp",
        "outputId": "9a431c17-8a40-4e39-ee55-802a9d29f975"
      },
      "execution_count": null,
      "outputs": [
        {
          "output_type": "stream",
          "name": "stdout",
          "text": [
            "\n",
            " TRAIN SET:\n",
            "   Normal  :  665 videos, 39286 sequences\n",
            "   Anomaly :  665 videos, 34223 sequences\n",
            "   TOTAL     : 1330 videos, 73509 sequences\n",
            "\n",
            " VAL SET:\n",
            "   Normal  :  142 videos,  8382 sequences\n",
            "   Anomaly :  143 videos,  7965 sequences\n",
            "   TOTAL     :  285 videos, 16347 sequences\n",
            "\n",
            " TEST SET:\n",
            "   Normal  :  143 videos,  9071 sequences\n",
            "   Anomaly :  142 videos,  7632 sequences\n",
            "   TOTAL     :  285 videos, 16703 sequences\n"
          ]
        }
      ]
    },
    {
      "cell_type": "code",
      "execution_count": null,
      "metadata": {
        "colab": {
          "base_uri": "https://localhost:8080/"
        },
        "id": "DEyPDJ19bd0u",
        "outputId": "7b38b37a-facc-4c7d-8ada-73a0fda4d857"
      },
      "outputs": [
        {
          "output_type": "stream",
          "name": "stderr",
          "text": [
            "Loading normal: 100%|██████████| 665/665 [00:17<00:00, 38.21it/s]\n",
            "Loading anomaly: 100%|██████████| 665/665 [00:15<00:00, 43.46it/s]\n",
            "Loading normal: 100%|██████████| 142/142 [00:03<00:00, 41.60it/s]\n",
            "Loading anomaly: 100%|██████████| 143/143 [00:03<00:00, 40.12it/s]\n",
            "Loading normal: 100%|██████████| 143/143 [00:05<00:00, 25.69it/s]\n",
            "Loading anomaly: 100%|██████████| 142/142 [00:04<00:00, 28.43it/s]\n"
          ]
        }
      ],
      "source": [
        "def load_split_sequences(base_dir):\n",
        "    X, y = [], []\n",
        "    for label in ['normal', 'anomaly']:\n",
        "        label_path = os.path.join(base_dir, label)\n",
        "        label_value = 0 if label == 'normal' else 1\n",
        "        for video in tqdm(os.listdir(label_path), desc=f\"Loading {label}\"):\n",
        "            video_path = os.path.join(label_path, video)\n",
        "            for file in sorted(os.listdir(video_path)):\n",
        "                if file.endswith('.npz'):\n",
        "                    arr = np.load(os.path.join(video_path, file))['feature_array']\n",
        "                    X.append(arr)\n",
        "                    y.append(label_value)\n",
        "    return np.array(X), np.array(y)\n",
        "\n",
        "X_train, y_train = load_split_sequences(os.path.join(Dataset, 'train'))\n",
        "X_val, y_val = load_split_sequences(os.path.join(Dataset, 'val'))\n",
        "X_test, y_test = load_split_sequences(os.path.join(Dataset, 'test'))\n"
      ]
    },
    {
      "cell_type": "code",
      "source": [
        "X_train.shape"
      ],
      "metadata": {
        "colab": {
          "base_uri": "https://localhost:8080/"
        },
        "id": "ymDxvjnGMG8s",
        "outputId": "4143820b-0eff-49de-ed4b-30744b5d80eb"
      },
      "execution_count": null,
      "outputs": [
        {
          "output_type": "execute_result",
          "data": {
            "text/plain": [
              "(73509, 7, 1, 1, 1024)"
            ]
          },
          "metadata": {},
          "execution_count": 6
        }
      ]
    },
    {
      "cell_type": "code",
      "execution_count": null,
      "metadata": {
        "id": "t84EB74ubdzF"
      },
      "outputs": [],
      "source": [
        "from sklearn.metrics import accuracy_score, precision_score, recall_score, f1_score, roc_auc_score, confusion_matrix, classification_report\n",
        "\n",
        "def evaluate_set(split_name, model, X, y):\n",
        "    y_prob = model.predict(X).flatten()\n",
        "    y_pred = (y_prob >= 0.5).astype(int)\n",
        "\n",
        "    acc = accuracy_score(y, y_pred)\n",
        "    prec = precision_score(y, y_pred)\n",
        "    rec = recall_score(y, y_pred)\n",
        "    f1 = f1_score(y, y_pred)\n",
        "    roc = roc_auc_score(y, y_prob)\n",
        "\n",
        "    print(f\"Accuracy      : {acc:.4f}\")\n",
        "    print(f\"Precision     : {prec:.4f}\")\n",
        "    print(f\"Recall        : {rec:.4f}\")\n",
        "    print(f\"F1 Score      : {f1:.4f}\")\n",
        "    print(f\"ROC AUC       : {roc:.4f}\")\n",
        "    print(\"Confusion Matrix:\\n\", confusion_matrix(y, y_pred))\n",
        "    print(\"Classification Report:\\n\", classification_report(y, y_pred))\n"
      ]
    },
    {
      "cell_type": "markdown",
      "metadata": {
        "id": "q-K-r_9w2L1C"
      },
      "source": [
        "## models"
      ]
    },
    {
      "cell_type": "markdown",
      "metadata": {
        "id": "TfOafZv32L1D"
      },
      "source": [
        "### mean model"
      ]
    },
    {
      "cell_type": "code",
      "execution_count": null,
      "metadata": {
        "colab": {
          "base_uri": "https://localhost:8080/"
        },
        "outputId": "9dfe0e2f-649c-45f9-cadf-8805ad87eef8",
        "id": "-m7G6kgL2L1E"
      },
      "outputs": [
        {
          "output_type": "stream",
          "name": "stdout",
          "text": [
            "Epoch 1/10\n",
            "\u001b[1m2298/2298\u001b[0m \u001b[32m━━━━━━━━━━━━━━━━━━━━\u001b[0m\u001b[37m\u001b[0m \u001b[1m0s\u001b[0m 3ms/step - accuracy: 0.8053 - loss: 0.4130\n",
            "Epoch 1: val_accuracy improved from -inf to 0.79409, saving model to mean.keras\n",
            "\u001b[1m2298/2298\u001b[0m \u001b[32m━━━━━━━━━━━━━━━━━━━━\u001b[0m\u001b[37m\u001b[0m \u001b[1m13s\u001b[0m 4ms/step - accuracy: 0.8053 - loss: 0.4130 - val_accuracy: 0.7941 - val_loss: 0.5248\n",
            "Epoch 2/10\n",
            "\u001b[1m2295/2298\u001b[0m \u001b[32m━━━━━━━━━━━━━━━━━━━\u001b[0m\u001b[37m━\u001b[0m \u001b[1m0s\u001b[0m 2ms/step - accuracy: 0.9245 - loss: 0.1965\n",
            "Epoch 2: val_accuracy did not improve from 0.79409\n",
            "\u001b[1m2298/2298\u001b[0m \u001b[32m━━━━━━━━━━━━━━━━━━━━\u001b[0m\u001b[37m\u001b[0m \u001b[1m7s\u001b[0m 3ms/step - accuracy: 0.9245 - loss: 0.1965 - val_accuracy: 0.7923 - val_loss: 0.5524\n",
            "Epoch 3/10\n",
            "\u001b[1m2297/2298\u001b[0m \u001b[32m━━━━━━━━━━━━━━━━━━━\u001b[0m\u001b[37m━\u001b[0m \u001b[1m0s\u001b[0m 3ms/step - accuracy: 0.9526 - loss: 0.1272\n",
            "Epoch 3: val_accuracy improved from 0.79409 to 0.80314, saving model to mean.keras\n",
            "\u001b[1m2298/2298\u001b[0m \u001b[32m━━━━━━━━━━━━━━━━━━━━\u001b[0m\u001b[37m\u001b[0m \u001b[1m7s\u001b[0m 3ms/step - accuracy: 0.9526 - loss: 0.1272 - val_accuracy: 0.8031 - val_loss: 0.5624\n",
            "Epoch 4/10\n",
            "\u001b[1m2298/2298\u001b[0m \u001b[32m━━━━━━━━━━━━━━━━━━━━\u001b[0m\u001b[37m\u001b[0m \u001b[1m0s\u001b[0m 3ms/step - accuracy: 0.9648 - loss: 0.0937\n",
            "Epoch 4: val_accuracy did not improve from 0.80314\n",
            "\u001b[1m2298/2298\u001b[0m \u001b[32m━━━━━━━━━━━━━━━━━━━━\u001b[0m\u001b[37m\u001b[0m \u001b[1m10s\u001b[0m 3ms/step - accuracy: 0.9648 - loss: 0.0937 - val_accuracy: 0.7844 - val_loss: 0.6203\n",
            "Epoch 5/10\n",
            "\u001b[1m2280/2298\u001b[0m \u001b[32m━━━━━━━━━━━━━━━━━━━\u001b[0m\u001b[37m━\u001b[0m \u001b[1m0s\u001b[0m 3ms/step - accuracy: 0.9730 - loss: 0.0749\n",
            "Epoch 5: val_accuracy improved from 0.80314 to 0.80510, saving model to mean.keras\n",
            "\u001b[1m2298/2298\u001b[0m \u001b[32m━━━━━━━━━━━━━━━━━━━━\u001b[0m\u001b[37m\u001b[0m \u001b[1m9s\u001b[0m 4ms/step - accuracy: 0.9730 - loss: 0.0749 - val_accuracy: 0.8051 - val_loss: 0.6867\n",
            "Epoch 6/10\n",
            "\u001b[1m2297/2298\u001b[0m \u001b[32m━━━━━━━━━━━━━━━━━━━\u001b[0m\u001b[37m━\u001b[0m \u001b[1m0s\u001b[0m 3ms/step - accuracy: 0.9764 - loss: 0.0645\n",
            "Epoch 6: val_accuracy did not improve from 0.80510\n",
            "\u001b[1m2298/2298\u001b[0m \u001b[32m━━━━━━━━━━━━━━━━━━━━\u001b[0m\u001b[37m\u001b[0m \u001b[1m10s\u001b[0m 3ms/step - accuracy: 0.9764 - loss: 0.0645 - val_accuracy: 0.8047 - val_loss: 0.6780\n",
            "Epoch 7/10\n",
            "\u001b[1m2282/2298\u001b[0m \u001b[32m━━━━━━━━━━━━━━━━━━━\u001b[0m\u001b[37m━\u001b[0m \u001b[1m0s\u001b[0m 3ms/step - accuracy: 0.9801 - loss: 0.0560\n",
            "Epoch 7: val_accuracy improved from 0.80510 to 0.80810, saving model to mean.keras\n",
            "\u001b[1m2298/2298\u001b[0m \u001b[32m━━━━━━━━━━━━━━━━━━━━\u001b[0m\u001b[37m\u001b[0m \u001b[1m8s\u001b[0m 3ms/step - accuracy: 0.9801 - loss: 0.0560 - val_accuracy: 0.8081 - val_loss: 0.7027\n",
            "Epoch 8/10\n",
            "\u001b[1m2287/2298\u001b[0m \u001b[32m━━━━━━━━━━━━━━━━━━━\u001b[0m\u001b[37m━\u001b[0m \u001b[1m0s\u001b[0m 3ms/step - accuracy: 0.9812 - loss: 0.0513\n",
            "Epoch 8: val_accuracy improved from 0.80810 to 0.81416, saving model to mean.keras\n",
            "\u001b[1m2298/2298\u001b[0m \u001b[32m━━━━━━━━━━━━━━━━━━━━\u001b[0m\u001b[37m\u001b[0m \u001b[1m8s\u001b[0m 3ms/step - accuracy: 0.9812 - loss: 0.0513 - val_accuracy: 0.8142 - val_loss: 0.7230\n",
            "Epoch 9/10\n",
            "\u001b[1m2291/2298\u001b[0m \u001b[32m━━━━━━━━━━━━━━━━━━━\u001b[0m\u001b[37m━\u001b[0m \u001b[1m0s\u001b[0m 3ms/step - accuracy: 0.9841 - loss: 0.0431\n",
            "Epoch 9: val_accuracy did not improve from 0.81416\n",
            "\u001b[1m2298/2298\u001b[0m \u001b[32m━━━━━━━━━━━━━━━━━━━━\u001b[0m\u001b[37m\u001b[0m \u001b[1m10s\u001b[0m 3ms/step - accuracy: 0.9841 - loss: 0.0431 - val_accuracy: 0.8060 - val_loss: 0.7733\n",
            "Epoch 10/10\n",
            "\u001b[1m2291/2298\u001b[0m \u001b[32m━━━━━━━━━━━━━━━━━━━\u001b[0m\u001b[37m━\u001b[0m \u001b[1m0s\u001b[0m 2ms/step - accuracy: 0.9851 - loss: 0.0406\n",
            "Epoch 10: val_accuracy did not improve from 0.81416\n",
            "\u001b[1m2298/2298\u001b[0m \u001b[32m━━━━━━━━━━━━━━━━━━━━\u001b[0m\u001b[37m\u001b[0m \u001b[1m10s\u001b[0m 3ms/step - accuracy: 0.9851 - loss: 0.0406 - val_accuracy: 0.7978 - val_loss: 0.8514\n"
          ]
        },
        {
          "output_type": "execute_result",
          "data": {
            "text/plain": [
              "<keras.src.callbacks.history.History at 0x7d4ec15f6890>"
            ]
          },
          "metadata": {},
          "execution_count": 7
        }
      ],
      "source": [
        "def get_model_mean(input_shape=(7, 1, 1, 1024)):\n",
        "    inputs = tf.keras.Input(shape=input_shape)\n",
        "    x = layers.Reshape((7, 1024))(inputs)\n",
        "    x = layers.GlobalAveragePooling1D()(x)\n",
        "    x = layers.Dense(256, activation='relu')(x)\n",
        "    x = layers.Dropout(0.5)(x)\n",
        "    x = layers.Dense(1, activation='sigmoid')(x)\n",
        "    return tf.keras.Model(inputs, x)\n",
        "\n",
        "model = get_model_mean()\n",
        "model.compile(optimizer='adam', loss='binary_crossentropy', metrics=['accuracy'])\n",
        "checkpoint = tf.keras.callbacks.ModelCheckpoint(\"mean.keras\", save_best_only=True, monitor='val_accuracy', mode='max', verbose=1)\n",
        "\n",
        "model.fit(X_train, y_train, validation_data=(X_val, y_val), epochs=10, batch_size=32, callbacks=[checkpoint], verbose=1)\n",
        "\n"
      ]
    },
    {
      "cell_type": "code",
      "execution_count": null,
      "metadata": {
        "colab": {
          "base_uri": "https://localhost:8080/"
        },
        "outputId": "3e8bb1f8-e126-4421-a5c6-7fb0870e8de0",
        "id": "Qu0vKp7W2L1E"
      },
      "outputs": [
        {
          "output_type": "stream",
          "name": "stdout",
          "text": [
            "\u001b[1m511/511\u001b[0m \u001b[32m━━━━━━━━━━━━━━━━━━━━\u001b[0m\u001b[37m\u001b[0m \u001b[1m1s\u001b[0m 2ms/step\n",
            "Accuracy      : 0.8142\n",
            "Precision     : 0.8478\n",
            "Recall        : 0.7539\n",
            "F1 Score      : 0.7981\n",
            "ROC AUC       : 0.8907\n",
            "Confusion Matrix:\n",
            " [[7304 1078]\n",
            " [1960 6005]]\n",
            "Classification Report:\n",
            "               precision    recall  f1-score   support\n",
            "\n",
            "           0       0.79      0.87      0.83      8382\n",
            "           1       0.85      0.75      0.80      7965\n",
            "\n",
            "    accuracy                           0.81     16347\n",
            "   macro avg       0.82      0.81      0.81     16347\n",
            "weighted avg       0.82      0.81      0.81     16347\n",
            "\n"
          ]
        }
      ],
      "source": [
        "model = tf.keras.models.load_model(\"mean.keras\")\n",
        "evaluate_set(\"Validation\", model, X_val, y_val)"
      ]
    },
    {
      "cell_type": "markdown",
      "metadata": {
        "id": "v7Ef_xJu2L1F"
      },
      "source": [
        "### Max model"
      ]
    },
    {
      "cell_type": "code",
      "execution_count": null,
      "metadata": {
        "colab": {
          "base_uri": "https://localhost:8080/"
        },
        "outputId": "a64d5f7f-fbce-4e86-9011-4207260cbd64",
        "id": "Ih6nhVuX2L1F"
      },
      "outputs": [
        {
          "output_type": "stream",
          "name": "stdout",
          "text": [
            "Epoch 1/10\n",
            "\u001b[1m575/575\u001b[0m \u001b[32m━━━━━━━━━━━━━━━━━━━━\u001b[0m\u001b[37m\u001b[0m \u001b[1m0s\u001b[0m 6ms/step - accuracy: 0.7667 - loss: 0.4706\n",
            "Epoch 1: val_accuracy improved from -inf to 0.76932, saving model to max.keras\n",
            "\u001b[1m575/575\u001b[0m \u001b[32m━━━━━━━━━━━━━━━━━━━━\u001b[0m\u001b[37m\u001b[0m \u001b[1m8s\u001b[0m 10ms/step - accuracy: 0.7668 - loss: 0.4704 - val_accuracy: 0.7693 - val_loss: 0.5158\n",
            "Epoch 2/10\n",
            "\u001b[1m567/575\u001b[0m \u001b[32m━━━━━━━━━━━━━━━━━━━\u001b[0m\u001b[37m━\u001b[0m \u001b[1m0s\u001b[0m 4ms/step - accuracy: 0.8888 - loss: 0.2729\n",
            "Epoch 2: val_accuracy improved from 0.76932 to 0.79617, saving model to max.keras\n",
            "\u001b[1m575/575\u001b[0m \u001b[32m━━━━━━━━━━━━━━━━━━━━\u001b[0m\u001b[37m\u001b[0m \u001b[1m3s\u001b[0m 5ms/step - accuracy: 0.8889 - loss: 0.2728 - val_accuracy: 0.7962 - val_loss: 0.5067\n",
            "Epoch 3/10\n",
            "\u001b[1m565/575\u001b[0m \u001b[32m━━━━━━━━━━━━━━━━━━━\u001b[0m\u001b[37m━\u001b[0m \u001b[1m0s\u001b[0m 3ms/step - accuracy: 0.9028 - loss: 0.2376\n",
            "Epoch 3: val_accuracy improved from 0.79617 to 0.80229, saving model to max.keras\n",
            "\u001b[1m575/575\u001b[0m \u001b[32m━━━━━━━━━━━━━━━━━━━━\u001b[0m\u001b[37m\u001b[0m \u001b[1m5s\u001b[0m 5ms/step - accuracy: 0.9028 - loss: 0.2375 - val_accuracy: 0.8023 - val_loss: 0.5217\n",
            "Epoch 4/10\n",
            "\u001b[1m566/575\u001b[0m \u001b[32m━━━━━━━━━━━━━━━━━━━\u001b[0m\u001b[37m━\u001b[0m \u001b[1m0s\u001b[0m 4ms/step - accuracy: 0.9137 - loss: 0.2080\n",
            "Epoch 4: val_accuracy improved from 0.80229 to 0.80339, saving model to max.keras\n",
            "\u001b[1m575/575\u001b[0m \u001b[32m━━━━━━━━━━━━━━━━━━━━\u001b[0m\u001b[37m\u001b[0m \u001b[1m5s\u001b[0m 5ms/step - accuracy: 0.9137 - loss: 0.2080 - val_accuracy: 0.8034 - val_loss: 0.5667\n",
            "Epoch 5/10\n",
            "\u001b[1m566/575\u001b[0m \u001b[32m━━━━━━━━━━━━━━━━━━━\u001b[0m\u001b[37m━\u001b[0m \u001b[1m0s\u001b[0m 3ms/step - accuracy: 0.9231 - loss: 0.1863\n",
            "Epoch 5: val_accuracy did not improve from 0.80339\n",
            "\u001b[1m575/575\u001b[0m \u001b[32m━━━━━━━━━━━━━━━━━━━━\u001b[0m\u001b[37m\u001b[0m \u001b[1m5s\u001b[0m 4ms/step - accuracy: 0.9230 - loss: 0.1864 - val_accuracy: 0.7815 - val_loss: 0.6274\n",
            "Epoch 6/10\n",
            "\u001b[1m566/575\u001b[0m \u001b[32m━━━━━━━━━━━━━━━━━━━\u001b[0m\u001b[37m━\u001b[0m \u001b[1m0s\u001b[0m 4ms/step - accuracy: 0.9204 - loss: 0.1876\n",
            "Epoch 6: val_accuracy improved from 0.80339 to 0.81416, saving model to max.keras\n",
            "\u001b[1m575/575\u001b[0m \u001b[32m━━━━━━━━━━━━━━━━━━━━\u001b[0m\u001b[37m\u001b[0m \u001b[1m3s\u001b[0m 4ms/step - accuracy: 0.9205 - loss: 0.1875 - val_accuracy: 0.8142 - val_loss: 0.5353\n",
            "Epoch 7/10\n",
            "\u001b[1m571/575\u001b[0m \u001b[32m━━━━━━━━━━━━━━━━━━━\u001b[0m\u001b[37m━\u001b[0m \u001b[1m0s\u001b[0m 4ms/step - accuracy: 0.9295 - loss: 0.1675\n",
            "Epoch 7: val_accuracy did not improve from 0.81416\n",
            "\u001b[1m575/575\u001b[0m \u001b[32m━━━━━━━━━━━━━━━━━━━━\u001b[0m\u001b[37m\u001b[0m \u001b[1m2s\u001b[0m 4ms/step - accuracy: 0.9295 - loss: 0.1675 - val_accuracy: 0.8074 - val_loss: 0.5674\n",
            "Epoch 8/10\n",
            "\u001b[1m575/575\u001b[0m \u001b[32m━━━━━━━━━━━━━━━━━━━━\u001b[0m\u001b[37m\u001b[0m \u001b[1m0s\u001b[0m 4ms/step - accuracy: 0.9386 - loss: 0.1474\n",
            "Epoch 8: val_accuracy did not improve from 0.81416\n",
            "\u001b[1m575/575\u001b[0m \u001b[32m━━━━━━━━━━━━━━━━━━━━\u001b[0m\u001b[37m\u001b[0m \u001b[1m3s\u001b[0m 5ms/step - accuracy: 0.9386 - loss: 0.1474 - val_accuracy: 0.8105 - val_loss: 0.6025\n",
            "Epoch 9/10\n",
            "\u001b[1m568/575\u001b[0m \u001b[32m━━━━━━━━━━━━━━━━━━━\u001b[0m\u001b[37m━\u001b[0m \u001b[1m0s\u001b[0m 5ms/step - accuracy: 0.9363 - loss: 0.1499\n",
            "Epoch 9: val_accuracy improved from 0.81416 to 0.81966, saving model to max.keras\n",
            "\u001b[1m575/575\u001b[0m \u001b[32m━━━━━━━━━━━━━━━━━━━━\u001b[0m\u001b[37m\u001b[0m \u001b[1m4s\u001b[0m 6ms/step - accuracy: 0.9363 - loss: 0.1499 - val_accuracy: 0.8197 - val_loss: 0.5288\n",
            "Epoch 10/10\n",
            "\u001b[1m573/575\u001b[0m \u001b[32m━━━━━━━━━━━━━━━━━━━\u001b[0m\u001b[37m━\u001b[0m \u001b[1m0s\u001b[0m 3ms/step - accuracy: 0.9407 - loss: 0.1442\n",
            "Epoch 10: val_accuracy improved from 0.81966 to 0.82498, saving model to max.keras\n",
            "\u001b[1m575/575\u001b[0m \u001b[32m━━━━━━━━━━━━━━━━━━━━\u001b[0m\u001b[37m\u001b[0m \u001b[1m3s\u001b[0m 5ms/step - accuracy: 0.9407 - loss: 0.1442 - val_accuracy: 0.8250 - val_loss: 0.6021\n"
          ]
        },
        {
          "output_type": "execute_result",
          "data": {
            "text/plain": [
              "<keras.src.callbacks.history.History at 0x7d4d74694ed0>"
            ]
          },
          "metadata": {},
          "execution_count": 63
        }
      ],
      "source": [
        "def get_model_max(input_shape=(7, 1, 1, 1024)):\n",
        "    inputs = tf.keras.Input(shape=input_shape)\n",
        "    x = layers.Reshape((7, 1024))(inputs)\n",
        "    x = layers.GlobalMaxPooling1D()(x)\n",
        "    # x = layers.Dense(512, activation='relu')(x)\n",
        "    # x = layers.Dropout(0.3)(x)\n",
        "    x = layers.Dense(256, activation='relu')(x)\n",
        "    x = layers.Dropout(0.4)(x)\n",
        "    x = layers.Dense(256, activation='relu')(x)\n",
        "    x = layers.Dropout(0.4)(x)\n",
        "    x = layers.Dense(1, activation='sigmoid')(x)\n",
        "    return tf.keras.Model(inputs, x)\n",
        "\n",
        "model = get_model_max()\n",
        "model.compile(optimizer='adam', loss='binary_crossentropy', metrics=['accuracy'])\n",
        "checkpoint = tf.keras.callbacks.ModelCheckpoint(\"max.keras\", save_best_only=True, monitor='val_accuracy', mode='max', verbose=1)\n",
        "model.fit(X_train, y_train, validation_data=(X_val, y_val), epochs=10, batch_size=128, callbacks=[checkpoint], verbose=1)"
      ]
    },
    {
      "cell_type": "code",
      "execution_count": null,
      "metadata": {
        "colab": {
          "base_uri": "https://localhost:8080/"
        },
        "outputId": "8b33d6af-a711-4510-90ec-d8a1ec41f186",
        "id": "-i3NqW2T2L1F"
      },
      "outputs": [
        {
          "output_type": "stream",
          "name": "stdout",
          "text": [
            "\u001b[1m511/511\u001b[0m \u001b[32m━━━━━━━━━━━━━━━━━━━━\u001b[0m\u001b[37m\u001b[0m \u001b[1m1s\u001b[0m 2ms/step\n",
            "Accuracy      : 0.8250\n",
            "Precision     : 0.8557\n",
            "Recall        : 0.7707\n",
            "F1 Score      : 0.8110\n",
            "ROC AUC       : 0.8831\n",
            "Confusion Matrix:\n",
            " [[7347 1035]\n",
            " [1826 6139]]\n",
            "Classification Report:\n",
            "               precision    recall  f1-score   support\n",
            "\n",
            "           0       0.80      0.88      0.84      8382\n",
            "           1       0.86      0.77      0.81      7965\n",
            "\n",
            "    accuracy                           0.82     16347\n",
            "   macro avg       0.83      0.82      0.82     16347\n",
            "weighted avg       0.83      0.82      0.82     16347\n",
            "\n"
          ]
        }
      ],
      "source": [
        "model = tf.keras.models.load_model(\"max.keras\")\n",
        "evaluate_set(\"Validation\", model, X_val, y_val)"
      ]
    },
    {
      "cell_type": "markdown",
      "metadata": {
        "id": "EgOnRfyr2L1I"
      },
      "source": [
        "### Flatten"
      ]
    },
    {
      "cell_type": "code",
      "execution_count": null,
      "metadata": {
        "colab": {
          "base_uri": "https://localhost:8080/"
        },
        "outputId": "a101acb0-8fa9-44bb-a22d-b9785394a9c3",
        "id": "IgqLxgYj2L1I"
      },
      "outputs": [
        {
          "output_type": "stream",
          "name": "stdout",
          "text": [
            "Epoch 1/10\n",
            "\u001b[1m575/575\u001b[0m \u001b[32m━━━━━━━━━━━━━━━━━━━━\u001b[0m\u001b[37m\u001b[0m \u001b[1m0s\u001b[0m 7ms/step - accuracy: 0.7720 - loss: 0.4747\n",
            "Epoch 1: val_accuracy improved from -inf to 0.80975, saving model to flatten.keras\n",
            "\u001b[1m575/575\u001b[0m \u001b[32m━━━━━━━━━━━━━━━━━━━━\u001b[0m\u001b[37m\u001b[0m \u001b[1m10s\u001b[0m 12ms/step - accuracy: 0.7721 - loss: 0.4746 - val_accuracy: 0.8098 - val_loss: 0.4632\n",
            "Epoch 2/10\n",
            "\u001b[1m565/575\u001b[0m \u001b[32m━━━━━━━━━━━━━━━━━━━\u001b[0m\u001b[37m━\u001b[0m \u001b[1m0s\u001b[0m 6ms/step - accuracy: 0.8816 - loss: 0.2732\n",
            "Epoch 2: val_accuracy did not improve from 0.80975\n",
            "\u001b[1m575/575\u001b[0m \u001b[32m━━━━━━━━━━━━━━━━━━━━\u001b[0m\u001b[37m\u001b[0m \u001b[1m6s\u001b[0m 7ms/step - accuracy: 0.8817 - loss: 0.2730 - val_accuracy: 0.7946 - val_loss: 0.5158\n",
            "Epoch 3/10\n",
            "\u001b[1m567/575\u001b[0m \u001b[32m━━━━━━━━━━━━━━━━━━━\u001b[0m\u001b[37m━\u001b[0m \u001b[1m0s\u001b[0m 5ms/step - accuracy: 0.8963 - loss: 0.2382\n",
            "Epoch 3: val_accuracy did not improve from 0.80975\n",
            "\u001b[1m575/575\u001b[0m \u001b[32m━━━━━━━━━━━━━━━━━━━━\u001b[0m\u001b[37m\u001b[0m \u001b[1m3s\u001b[0m 6ms/step - accuracy: 0.8964 - loss: 0.2380 - val_accuracy: 0.7940 - val_loss: 0.5214\n",
            "Epoch 4/10\n",
            "\u001b[1m574/575\u001b[0m \u001b[32m━━━━━━━━━━━━━━━━━━━\u001b[0m\u001b[37m━\u001b[0m \u001b[1m0s\u001b[0m 5ms/step - accuracy: 0.9009 - loss: 0.2219\n",
            "Epoch 4: val_accuracy did not improve from 0.80975\n",
            "\u001b[1m575/575\u001b[0m \u001b[32m━━━━━━━━━━━━━━━━━━━━\u001b[0m\u001b[37m\u001b[0m \u001b[1m5s\u001b[0m 6ms/step - accuracy: 0.9009 - loss: 0.2219 - val_accuracy: 0.7874 - val_loss: 0.5893\n",
            "Epoch 5/10\n",
            "\u001b[1m573/575\u001b[0m \u001b[32m━━━━━━━━━━━━━━━━━━━\u001b[0m\u001b[37m━\u001b[0m \u001b[1m0s\u001b[0m 5ms/step - accuracy: 0.9194 - loss: 0.1904\n",
            "Epoch 5: val_accuracy improved from 0.80975 to 0.81630, saving model to flatten.keras\n",
            "\u001b[1m575/575\u001b[0m \u001b[32m━━━━━━━━━━━━━━━━━━━━\u001b[0m\u001b[37m\u001b[0m \u001b[1m5s\u001b[0m 6ms/step - accuracy: 0.9194 - loss: 0.1904 - val_accuracy: 0.8163 - val_loss: 0.5283\n",
            "Epoch 6/10\n",
            "\u001b[1m575/575\u001b[0m \u001b[32m━━━━━━━━━━━━━━━━━━━━\u001b[0m\u001b[37m\u001b[0m \u001b[1m0s\u001b[0m 5ms/step - accuracy: 0.9233 - loss: 0.1841\n",
            "Epoch 6: val_accuracy did not improve from 0.81630\n",
            "\u001b[1m575/575\u001b[0m \u001b[32m━━━━━━━━━━━━━━━━━━━━\u001b[0m\u001b[37m\u001b[0m \u001b[1m3s\u001b[0m 6ms/step - accuracy: 0.9233 - loss: 0.1841 - val_accuracy: 0.7984 - val_loss: 0.5553\n",
            "Epoch 7/10\n",
            "\u001b[1m575/575\u001b[0m \u001b[32m━━━━━━━━━━━━━━━━━━━━\u001b[0m\u001b[37m\u001b[0m \u001b[1m0s\u001b[0m 5ms/step - accuracy: 0.9247 - loss: 0.1778\n",
            "Epoch 7: val_accuracy did not improve from 0.81630\n",
            "\u001b[1m575/575\u001b[0m \u001b[32m━━━━━━━━━━━━━━━━━━━━\u001b[0m\u001b[37m\u001b[0m \u001b[1m5s\u001b[0m 7ms/step - accuracy: 0.9247 - loss: 0.1778 - val_accuracy: 0.8098 - val_loss: 0.5805\n",
            "Epoch 8/10\n",
            "\u001b[1m567/575\u001b[0m \u001b[32m━━━━━━━━━━━━━━━━━━━\u001b[0m\u001b[37m━\u001b[0m \u001b[1m0s\u001b[0m 5ms/step - accuracy: 0.9301 - loss: 0.1641\n",
            "Epoch 8: val_accuracy did not improve from 0.81630\n",
            "\u001b[1m575/575\u001b[0m \u001b[32m━━━━━━━━━━━━━━━━━━━━\u001b[0m\u001b[37m\u001b[0m \u001b[1m4s\u001b[0m 6ms/step - accuracy: 0.9301 - loss: 0.1642 - val_accuracy: 0.8066 - val_loss: 0.5366\n",
            "Epoch 9/10\n",
            "\u001b[1m570/575\u001b[0m \u001b[32m━━━━━━━━━━━━━━━━━━━\u001b[0m\u001b[37m━\u001b[0m \u001b[1m0s\u001b[0m 5ms/step - accuracy: 0.9335 - loss: 0.1582\n",
            "Epoch 9: val_accuracy did not improve from 0.81630\n",
            "\u001b[1m575/575\u001b[0m \u001b[32m━━━━━━━━━━━━━━━━━━━━\u001b[0m\u001b[37m\u001b[0m \u001b[1m5s\u001b[0m 6ms/step - accuracy: 0.9335 - loss: 0.1581 - val_accuracy: 0.8094 - val_loss: 0.6411\n",
            "Epoch 10/10\n",
            "\u001b[1m567/575\u001b[0m \u001b[32m━━━━━━━━━━━━━━━━━━━\u001b[0m\u001b[37m━\u001b[0m \u001b[1m0s\u001b[0m 6ms/step - accuracy: 0.9366 - loss: 0.1509\n",
            "Epoch 10: val_accuracy did not improve from 0.81630\n",
            "\u001b[1m575/575\u001b[0m \u001b[32m━━━━━━━━━━━━━━━━━━━━\u001b[0m\u001b[37m\u001b[0m \u001b[1m6s\u001b[0m 7ms/step - accuracy: 0.9366 - loss: 0.1509 - val_accuracy: 0.8071 - val_loss: 0.5894\n"
          ]
        },
        {
          "output_type": "execute_result",
          "data": {
            "text/plain": [
              "<keras.src.callbacks.history.History at 0x7d4d1d1a8250>"
            ]
          },
          "metadata": {},
          "execution_count": 91
        }
      ],
      "source": [
        "def get_model_flatten(input_shape=(7, 1, 1, 1024)):\n",
        "    inputs = tf.keras.Input(shape=input_shape)\n",
        "    x = layers.Flatten()(inputs)\n",
        "    x = layers.Dense(512, activation='relu')(x)\n",
        "    x = layers.Dropout(0.4)(x)\n",
        "    x = layers.Dense(256, activation='relu')(x)\n",
        "    x = layers.Dropout(0.4)(x)\n",
        "    x = layers.Dense(128, activation='relu')(x)\n",
        "    x = layers.Dropout(0.4)(x)\n",
        "    x = layers.Dense(1, activation='sigmoid')(x)\n",
        "    return tf.keras.Model(inputs, x)\n",
        "\n",
        "model = get_model_flatten()\n",
        "model.compile(optimizer='adam', loss='binary_crossentropy', metrics=['accuracy'])\n",
        "checkpoint = tf.keras.callbacks.ModelCheckpoint(\"flatten.keras\", save_best_only=True, monitor='val_accuracy', mode='max', verbose=1)\n",
        "model.fit(X_train, y_train, validation_data=(X_val, y_val), epochs=10, batch_size=128, callbacks=[checkpoint], verbose=1)\n",
        "\n"
      ]
    },
    {
      "cell_type": "code",
      "execution_count": null,
      "metadata": {
        "colab": {
          "base_uri": "https://localhost:8080/"
        },
        "outputId": "3288b6d4-cd17-4015-d902-031653b6d75b",
        "id": "3vGnImgI2L1J"
      },
      "outputs": [
        {
          "output_type": "stream",
          "name": "stdout",
          "text": [
            "\u001b[1m511/511\u001b[0m \u001b[32m━━━━━━━━━━━━━━━━━━━━\u001b[0m\u001b[37m\u001b[0m \u001b[1m2s\u001b[0m 2ms/step\n",
            "Accuracy      : 0.8163\n",
            "Precision     : 0.8252\n",
            "Recall        : 0.7903\n",
            "F1 Score      : 0.8074\n",
            "ROC AUC       : 0.8796\n",
            "Confusion Matrix:\n",
            " [[7049 1333]\n",
            " [1670 6295]]\n",
            "Classification Report:\n",
            "               precision    recall  f1-score   support\n",
            "\n",
            "           0       0.81      0.84      0.82      8382\n",
            "           1       0.83      0.79      0.81      7965\n",
            "\n",
            "    accuracy                           0.82     16347\n",
            "   macro avg       0.82      0.82      0.82     16347\n",
            "weighted avg       0.82      0.82      0.82     16347\n",
            "\n"
          ]
        }
      ],
      "source": [
        "model = tf.keras.models.load_model(\"flatten.keras\")\n",
        "evaluate_set(\"Validation\", model, X_val, y_val)"
      ]
    },
    {
      "cell_type": "markdown",
      "metadata": {
        "id": "DQ4wdZUM2L1J"
      },
      "source": [
        "### cnn model"
      ]
    },
    {
      "cell_type": "code",
      "execution_count": null,
      "metadata": {
        "colab": {
          "base_uri": "https://localhost:8080/"
        },
        "outputId": "20695c83-7293-4028-f48c-c03f63eeed4d",
        "id": "VT1_b3f_2L1J"
      },
      "outputs": [
        {
          "output_type": "stream",
          "name": "stdout",
          "text": [
            "Epoch 1/5\n",
            "\u001b[1m2298/2298\u001b[0m \u001b[32m━━━━━━━━━━━━━━━━━━━━\u001b[0m\u001b[37m\u001b[0m \u001b[1m0s\u001b[0m 5ms/step - accuracy: 0.7940 - loss: 0.4304\n",
            "Epoch 1: val_accuracy improved from -inf to 0.79660, saving model to cnn.keras\n",
            "\u001b[1m2298/2298\u001b[0m \u001b[32m━━━━━━━━━━━━━━━━━━━━\u001b[0m\u001b[37m\u001b[0m \u001b[1m17s\u001b[0m 6ms/step - accuracy: 0.7940 - loss: 0.4303 - val_accuracy: 0.7966 - val_loss: 0.5422\n",
            "Epoch 2/5\n",
            "\u001b[1m2287/2298\u001b[0m \u001b[32m━━━━━━━━━━━━━━━━━━━\u001b[0m\u001b[37m━\u001b[0m \u001b[1m0s\u001b[0m 4ms/step - accuracy: 0.9372 - loss: 0.1688\n",
            "Epoch 2: val_accuracy improved from 0.79660 to 0.80669, saving model to cnn.keras\n",
            "\u001b[1m2298/2298\u001b[0m \u001b[32m━━━━━━━━━━━━━━━━━━━━\u001b[0m\u001b[37m\u001b[0m \u001b[1m15s\u001b[0m 4ms/step - accuracy: 0.9373 - loss: 0.1687 - val_accuracy: 0.8067 - val_loss: 0.6951\n",
            "Epoch 3/5\n",
            "\u001b[1m2291/2298\u001b[0m \u001b[32m━━━━━━━━━━━━━━━━━━━\u001b[0m\u001b[37m━\u001b[0m \u001b[1m0s\u001b[0m 4ms/step - accuracy: 0.9591 - loss: 0.1133\n",
            "Epoch 3: val_accuracy did not improve from 0.80669\n",
            "\u001b[1m2298/2298\u001b[0m \u001b[32m━━━━━━━━━━━━━━━━━━━━\u001b[0m\u001b[37m\u001b[0m \u001b[1m11s\u001b[0m 5ms/step - accuracy: 0.9591 - loss: 0.1133 - val_accuracy: 0.7869 - val_loss: 0.7228\n",
            "Epoch 4/5\n",
            "\u001b[1m2293/2298\u001b[0m \u001b[32m━━━━━━━━━━━━━━━━━━━\u001b[0m\u001b[37m━\u001b[0m \u001b[1m0s\u001b[0m 4ms/step - accuracy: 0.9704 - loss: 0.0837\n",
            "Epoch 4: val_accuracy did not improve from 0.80669\n",
            "\u001b[1m2298/2298\u001b[0m \u001b[32m━━━━━━━━━━━━━━━━━━━━\u001b[0m\u001b[37m\u001b[0m \u001b[1m10s\u001b[0m 4ms/step - accuracy: 0.9704 - loss: 0.0837 - val_accuracy: 0.7942 - val_loss: 0.7494\n",
            "Epoch 5/5\n",
            "\u001b[1m2295/2298\u001b[0m \u001b[32m━━━━━━━━━━━━━━━━━━━\u001b[0m\u001b[37m━\u001b[0m \u001b[1m0s\u001b[0m 4ms/step - accuracy: 0.9734 - loss: 0.0780\n",
            "Epoch 5: val_accuracy did not improve from 0.80669\n",
            "\u001b[1m2298/2298\u001b[0m \u001b[32m━━━━━━━━━━━━━━━━━━━━\u001b[0m\u001b[37m\u001b[0m \u001b[1m10s\u001b[0m 4ms/step - accuracy: 0.9734 - loss: 0.0780 - val_accuracy: 0.7836 - val_loss: 0.9793\n"
          ]
        },
        {
          "output_type": "execute_result",
          "data": {
            "text/plain": [
              "<keras.src.callbacks.history.History at 0x78736b2cee50>"
            ]
          },
          "metadata": {},
          "execution_count": 21
        }
      ],
      "source": [
        "def get_model_cnn(input_shape=(7, 1, 1, 1024)):\n",
        "    inputs = tf.keras.Input(shape=input_shape)\n",
        "    x = layers.Reshape((7, 1024))(inputs)\n",
        "    x = layers.Conv1D(128, 3, activation='relu', padding='same')(x)\n",
        "    # x = layers.Dropout(0.5)(x)\n",
        "    x = layers.Conv1D(128, 3, activation='relu', padding='same')(x)\n",
        "    x = layers.GlobalMaxPooling1D()(x)\n",
        "    x = layers.Dropout(0.5)(x)\n",
        "    x = layers.Dense(128, activation='relu')(x)\n",
        "    x = layers.Dropout(0.5)(x)\n",
        "    x = layers.Dense(128, activation='relu')(x)\n",
        "    x = layers.Dropout(0.5)(x)\n",
        "    outputs = layers.Dense(1, activation='sigmoid')(x)\n",
        "    return tf.keras.Model(inputs, outputs)\n",
        "\n",
        "model = get_model_cnn()\n",
        "model.compile(optimizer='adam', loss='binary_crossentropy', metrics=['accuracy'])\n",
        "checkpoint = tf.keras.callbacks.ModelCheckpoint(\"cnn.keras\", save_best_only=True, monitor='val_accuracy', mode='max', verbose=1)\n",
        "model.fit(X_train, y_train, validation_data=(X_val, y_val), epochs=5, batch_size=32, callbacks=[checkpoint], verbose=1)\n"
      ]
    },
    {
      "cell_type": "code",
      "execution_count": null,
      "metadata": {
        "colab": {
          "base_uri": "https://localhost:8080/"
        },
        "outputId": "e9dee74d-bb95-4d3f-8e24-2b2e478c79cd",
        "id": "uRhS1XkM2L1J"
      },
      "outputs": [
        {
          "output_type": "stream",
          "name": "stdout",
          "text": [
            "\u001b[1m511/511\u001b[0m \u001b[32m━━━━━━━━━━━━━━━━━━━━\u001b[0m\u001b[37m\u001b[0m \u001b[1m1s\u001b[0m 2ms/step\n",
            "Accuracy      : 0.8116\n",
            "Precision     : 0.8202\n",
            "Recall        : 0.7857\n",
            "F1 Score      : 0.8026\n",
            "ROC AUC       : 0.8761\n",
            "Confusion Matrix:\n",
            " [[7010 1372]\n",
            " [1707 6258]]\n",
            "Classification Report:\n",
            "               precision    recall  f1-score   support\n",
            "\n",
            "           0       0.80      0.84      0.82      8382\n",
            "           1       0.82      0.79      0.80      7965\n",
            "\n",
            "    accuracy                           0.81     16347\n",
            "   macro avg       0.81      0.81      0.81     16347\n",
            "weighted avg       0.81      0.81      0.81     16347\n",
            "\n"
          ]
        }
      ],
      "source": [
        "model = tf.keras.models.load_model(\"cnn.keras\")\n",
        "evaluate_set(\"Validation\", model, X_val, y_val)"
      ]
    },
    {
      "cell_type": "markdown",
      "metadata": {
        "id": "e9Sgq-3H2L1K"
      },
      "source": [
        "### lstm model"
      ]
    },
    {
      "cell_type": "code",
      "execution_count": null,
      "metadata": {
        "colab": {
          "base_uri": "https://localhost:8080/"
        },
        "outputId": "03fba091-80d5-42e4-b431-acb0fd3f7e2c",
        "id": "A0j91eL72L1K"
      },
      "outputs": [
        {
          "output_type": "stream",
          "name": "stdout",
          "text": [
            "Epoch 1/10\n",
            "\u001b[1m1147/1149\u001b[0m \u001b[32m━━━━━━━━━━━━━━━━━━━\u001b[0m\u001b[37m━\u001b[0m \u001b[1m0s\u001b[0m 11ms/step - accuracy: 0.8278 - loss: 0.3691\n",
            "Epoch 1: val_accuracy improved from -inf to 0.77806, saving model to lstm.keras\n",
            "\u001b[1m1149/1149\u001b[0m \u001b[32m━━━━━━━━━━━━━━━━━━━━\u001b[0m\u001b[37m\u001b[0m \u001b[1m21s\u001b[0m 14ms/step - accuracy: 0.8280 - loss: 0.3687 - val_accuracy: 0.7781 - val_loss: 0.6451\n",
            "Epoch 2/10\n",
            "\u001b[1m1146/1149\u001b[0m \u001b[32m━━━━━━━━━━━━━━━━━━━\u001b[0m\u001b[37m━\u001b[0m \u001b[1m0s\u001b[0m 12ms/step - accuracy: 0.9725 - loss: 0.0773\n",
            "Epoch 2: val_accuracy improved from 0.77806 to 0.78736, saving model to lstm.keras\n",
            "\u001b[1m1149/1149\u001b[0m \u001b[32m━━━━━━━━━━━━━━━━━━━━\u001b[0m\u001b[37m\u001b[0m \u001b[1m15s\u001b[0m 13ms/step - accuracy: 0.9725 - loss: 0.0772 - val_accuracy: 0.7874 - val_loss: 1.0739\n",
            "Epoch 3/10\n",
            "\u001b[1m1145/1149\u001b[0m \u001b[32m━━━━━━━━━━━━━━━━━━━\u001b[0m\u001b[37m━\u001b[0m \u001b[1m0s\u001b[0m 12ms/step - accuracy: 0.9844 - loss: 0.0443\n",
            "Epoch 3: val_accuracy did not improve from 0.78736\n",
            "\u001b[1m1149/1149\u001b[0m \u001b[32m━━━━━━━━━━━━━━━━━━━━\u001b[0m\u001b[37m\u001b[0m \u001b[1m20s\u001b[0m 13ms/step - accuracy: 0.9844 - loss: 0.0443 - val_accuracy: 0.7795 - val_loss: 1.2257\n",
            "Epoch 4/10\n",
            "\u001b[1m1147/1149\u001b[0m \u001b[32m━━━━━━━━━━━━━━━━━━━\u001b[0m\u001b[37m━\u001b[0m \u001b[1m0s\u001b[0m 12ms/step - accuracy: 0.9896 - loss: 0.0304\n",
            "Epoch 4: val_accuracy improved from 0.78736 to 0.79941, saving model to lstm.keras\n",
            "\u001b[1m1149/1149\u001b[0m \u001b[32m━━━━━━━━━━━━━━━━━━━━\u001b[0m\u001b[37m\u001b[0m \u001b[1m21s\u001b[0m 13ms/step - accuracy: 0.9896 - loss: 0.0304 - val_accuracy: 0.7994 - val_loss: 1.2361\n",
            "Epoch 5/10\n",
            "\u001b[1m1149/1149\u001b[0m \u001b[32m━━━━━━━━━━━━━━━━━━━━\u001b[0m\u001b[37m\u001b[0m \u001b[1m0s\u001b[0m 12ms/step - accuracy: 0.9923 - loss: 0.0230\n",
            "Epoch 5: val_accuracy did not improve from 0.79941\n",
            "\u001b[1m1149/1149\u001b[0m \u001b[32m━━━━━━━━━━━━━━━━━━━━\u001b[0m\u001b[37m\u001b[0m \u001b[1m22s\u001b[0m 15ms/step - accuracy: 0.9923 - loss: 0.0230 - val_accuracy: 0.7696 - val_loss: 1.1901\n",
            "Epoch 6/10\n",
            "\u001b[1m1147/1149\u001b[0m \u001b[32m━━━━━━━━━━━━━━━━━━━\u001b[0m\u001b[37m━\u001b[0m \u001b[1m0s\u001b[0m 12ms/step - accuracy: 0.9934 - loss: 0.0186\n",
            "Epoch 6: val_accuracy did not improve from 0.79941\n",
            "\u001b[1m1149/1149\u001b[0m \u001b[32m━━━━━━━━━━━━━━━━━━━━\u001b[0m\u001b[37m\u001b[0m \u001b[1m18s\u001b[0m 13ms/step - accuracy: 0.9934 - loss: 0.0186 - val_accuracy: 0.7529 - val_loss: 1.5712\n",
            "Epoch 7/10\n",
            "\u001b[1m1149/1149\u001b[0m \u001b[32m━━━━━━━━━━━━━━━━━━━━\u001b[0m\u001b[37m\u001b[0m \u001b[1m0s\u001b[0m 12ms/step - accuracy: 0.9942 - loss: 0.0179\n",
            "Epoch 7: val_accuracy did not improve from 0.79941\n",
            "\u001b[1m1149/1149\u001b[0m \u001b[32m━━━━━━━━━━━━━━━━━━━━\u001b[0m\u001b[37m\u001b[0m \u001b[1m22s\u001b[0m 14ms/step - accuracy: 0.9942 - loss: 0.0179 - val_accuracy: 0.7867 - val_loss: 1.5575\n",
            "Epoch 8/10\n",
            "\u001b[1m1144/1149\u001b[0m \u001b[32m━━━━━━━━━━━━━━━━━━━\u001b[0m\u001b[37m━\u001b[0m \u001b[1m0s\u001b[0m 12ms/step - accuracy: 0.9947 - loss: 0.0180\n",
            "Epoch 8: val_accuracy did not improve from 0.79941\n",
            "\u001b[1m1149/1149\u001b[0m \u001b[32m━━━━━━━━━━━━━━━━━━━━\u001b[0m\u001b[37m\u001b[0m \u001b[1m19s\u001b[0m 13ms/step - accuracy: 0.9947 - loss: 0.0180 - val_accuracy: 0.7759 - val_loss: 1.3728\n",
            "Epoch 9/10\n",
            "\u001b[1m1147/1149\u001b[0m \u001b[32m━━━━━━━━━━━━━━━━━━━\u001b[0m\u001b[37m━\u001b[0m \u001b[1m0s\u001b[0m 12ms/step - accuracy: 0.9960 - loss: 0.0128\n",
            "Epoch 9: val_accuracy improved from 0.79941 to 0.81208, saving model to lstm.keras\n",
            "\u001b[1m1149/1149\u001b[0m \u001b[32m━━━━━━━━━━━━━━━━━━━━\u001b[0m\u001b[37m\u001b[0m \u001b[1m15s\u001b[0m 13ms/step - accuracy: 0.9960 - loss: 0.0128 - val_accuracy: 0.8121 - val_loss: 1.1377\n",
            "Epoch 10/10\n",
            "\u001b[1m1145/1149\u001b[0m \u001b[32m━━━━━━━━━━━━━━━━━━━\u001b[0m\u001b[37m━\u001b[0m \u001b[1m0s\u001b[0m 12ms/step - accuracy: 0.9968 - loss: 0.0109\n",
            "Epoch 10: val_accuracy did not improve from 0.81208\n",
            "\u001b[1m1149/1149\u001b[0m \u001b[32m━━━━━━━━━━━━━━━━━━━━\u001b[0m\u001b[37m\u001b[0m \u001b[1m15s\u001b[0m 13ms/step - accuracy: 0.9968 - loss: 0.0110 - val_accuracy: 0.7871 - val_loss: 1.3977\n"
          ]
        },
        {
          "output_type": "execute_result",
          "data": {
            "text/plain": [
              "<keras.src.callbacks.history.History at 0x7c7e9afda210>"
            ]
          },
          "metadata": {},
          "execution_count": 22
        }
      ],
      "source": [
        "def get_model_lstm(input_shape=(7, 1, 1, 1024)):\n",
        "    inputs = tf.keras.Input(shape=input_shape)\n",
        "    x = layers.Reshape((7, 1024))(inputs)\n",
        "    x = layers.Bidirectional(layers.LSTM(64, return_sequences=True))(x)\n",
        "    x = layers.Bidirectional(layers.LSTM(64, return_sequences=False))(x)\n",
        "    x = layers.Dropout(0.5)(x)\n",
        "    x = layers.Dense(256, activation='relu')(x)\n",
        "    x = layers.Dropout(0.5)(x)\n",
        "    x = layers.Dense(128, activation='relu')(x)\n",
        "    x = layers.Dropout(0.5)(x)\n",
        "    outputs = layers.Dense(1, activation='sigmoid')(x)\n",
        "    return tf.keras.Model(inputs, outputs)\n",
        "\n",
        "model = get_model_lstm()\n",
        "model.compile(optimizer='adam', loss='binary_crossentropy', metrics=['accuracy'])\n",
        "checkpoint = tf.keras.callbacks.ModelCheckpoint(\"lstm.keras\", save_best_only=True, monitor='val_accuracy', mode='max', verbose=1)\n",
        "model.fit(X_train, y_train, validation_data=(X_val, y_val), epochs=10, batch_size=64, callbacks=[checkpoint], verbose=1)\n"
      ]
    },
    {
      "cell_type": "code",
      "execution_count": null,
      "metadata": {
        "colab": {
          "base_uri": "https://localhost:8080/"
        },
        "outputId": "18429a1a-b794-44f5-aafc-9400468b3db1",
        "id": "YQ4Nro7b2L1K"
      },
      "outputs": [
        {
          "output_type": "stream",
          "name": "stdout",
          "text": [
            "\u001b[1m511/511\u001b[0m \u001b[32m━━━━━━━━━━━━━━━━━━━━\u001b[0m\u001b[37m\u001b[0m \u001b[1m3s\u001b[0m 4ms/step\n",
            "Accuracy      : 0.8121\n",
            "Precision     : 0.8315\n",
            "Recall        : 0.7705\n",
            "F1 Score      : 0.7998\n",
            "ROC AUC       : 0.8862\n",
            "Confusion Matrix:\n",
            " [[7138 1244]\n",
            " [1828 6137]]\n",
            "Classification Report:\n",
            "               precision    recall  f1-score   support\n",
            "\n",
            "           0       0.80      0.85      0.82      8382\n",
            "           1       0.83      0.77      0.80      7965\n",
            "\n",
            "    accuracy                           0.81     16347\n",
            "   macro avg       0.81      0.81      0.81     16347\n",
            "weighted avg       0.81      0.81      0.81     16347\n",
            "\n"
          ]
        }
      ],
      "source": [
        "model = tf.keras.models.load_model(\"lstm.keras\")\n",
        "evaluate_set(\"Validation\", model, X_val, y_val)"
      ]
    },
    {
      "cell_type": "markdown",
      "metadata": {
        "id": "imtn27Ro2L1L"
      },
      "source": [
        "### gru model"
      ]
    },
    {
      "cell_type": "code",
      "execution_count": null,
      "metadata": {
        "colab": {
          "base_uri": "https://localhost:8080/"
        },
        "outputId": "992bf5c7-ea28-4f16-bf24-db5dfcc23570",
        "id": "Cq6xbQuw2L1L"
      },
      "outputs": [
        {
          "output_type": "stream",
          "name": "stdout",
          "text": [
            "Epoch 1/10\n",
            "\u001b[1m1149/1149\u001b[0m \u001b[32m━━━━━━━━━━━━━━━━━━━━\u001b[0m\u001b[37m\u001b[0m \u001b[1m0s\u001b[0m 69ms/step - accuracy: 0.8042 - loss: 0.4131\n",
            "Epoch 1: val_accuracy improved from -inf to 0.78895, saving model to gru.keras\n",
            "\u001b[1m1149/1149\u001b[0m \u001b[32m━━━━━━━━━━━━━━━━━━━━\u001b[0m\u001b[37m\u001b[0m \u001b[1m97s\u001b[0m 75ms/step - accuracy: 0.8043 - loss: 0.4130 - val_accuracy: 0.7890 - val_loss: 0.6502\n",
            "Epoch 2/10\n",
            "\u001b[1m1148/1149\u001b[0m \u001b[32m━━━━━━━━━━━━━━━━━━━\u001b[0m\u001b[37m━\u001b[0m \u001b[1m0s\u001b[0m 69ms/step - accuracy: 0.9630 - loss: 0.1042\n",
            "Epoch 2: val_accuracy improved from 0.78895 to 0.80094, saving model to gru.keras\n",
            "\u001b[1m1149/1149\u001b[0m \u001b[32m━━━━━━━━━━━━━━━━━━━━\u001b[0m\u001b[37m\u001b[0m \u001b[1m139s\u001b[0m 73ms/step - accuracy: 0.9630 - loss: 0.1041 - val_accuracy: 0.8009 - val_loss: 0.9402\n",
            "Epoch 3/10\n",
            "\u001b[1m1149/1149\u001b[0m \u001b[32m━━━━━━━━━━━━━━━━━━━━\u001b[0m\u001b[37m\u001b[0m \u001b[1m0s\u001b[0m 85ms/step - accuracy: 0.9825 - loss: 0.0508\n",
            "Epoch 3: val_accuracy did not improve from 0.80094\n",
            "\u001b[1m1149/1149\u001b[0m \u001b[32m━━━━━━━━━━━━━━━━━━━━\u001b[0m\u001b[37m\u001b[0m \u001b[1m166s\u001b[0m 93ms/step - accuracy: 0.9825 - loss: 0.0508 - val_accuracy: 0.7908 - val_loss: 1.1785\n",
            "Epoch 4/10\n",
            "\u001b[1m1149/1149\u001b[0m \u001b[32m━━━━━━━━━━━━━━━━━━━━\u001b[0m\u001b[37m\u001b[0m \u001b[1m0s\u001b[0m 90ms/step - accuracy: 0.9894 - loss: 0.0301\n",
            "Epoch 4: val_accuracy did not improve from 0.80094\n",
            "\u001b[1m1149/1149\u001b[0m \u001b[32m━━━━━━━━━━━━━━━━━━━━\u001b[0m\u001b[37m\u001b[0m \u001b[1m147s\u001b[0m 97ms/step - accuracy: 0.9894 - loss: 0.0301 - val_accuracy: 0.7861 - val_loss: 1.2680\n",
            "Epoch 5/10\n",
            "\u001b[1m1148/1149\u001b[0m \u001b[32m━━━━━━━━━━━━━━━━━━━\u001b[0m\u001b[37m━\u001b[0m \u001b[1m0s\u001b[0m 69ms/step - accuracy: 0.9908 - loss: 0.0255\n",
            "Epoch 5: val_accuracy did not improve from 0.80094\n",
            "\u001b[1m1149/1149\u001b[0m \u001b[32m━━━━━━━━━━━━━━━━━━━━\u001b[0m\u001b[37m\u001b[0m \u001b[1m84s\u001b[0m 73ms/step - accuracy: 0.9908 - loss: 0.0255 - val_accuracy: 0.7728 - val_loss: 1.2477\n",
            "Epoch 6/10\n",
            "\u001b[1m1148/1149\u001b[0m \u001b[32m━━━━━━━━━━━━━━━━━━━\u001b[0m\u001b[37m━\u001b[0m \u001b[1m0s\u001b[0m 69ms/step - accuracy: 0.9935 - loss: 0.0180\n",
            "Epoch 6: val_accuracy did not improve from 0.80094\n",
            "\u001b[1m1149/1149\u001b[0m \u001b[32m━━━━━━━━━━━━━━━━━━━━\u001b[0m\u001b[37m\u001b[0m \u001b[1m84s\u001b[0m 73ms/step - accuracy: 0.9935 - loss: 0.0180 - val_accuracy: 0.7899 - val_loss: 1.3963\n",
            "Epoch 7/10\n",
            "\u001b[1m1148/1149\u001b[0m \u001b[32m━━━━━━━━━━━━━━━━━━━\u001b[0m\u001b[37m━\u001b[0m \u001b[1m0s\u001b[0m 67ms/step - accuracy: 0.9944 - loss: 0.0160\n",
            "Epoch 7: val_accuracy did not improve from 0.80094\n",
            "\u001b[1m1149/1149\u001b[0m \u001b[32m━━━━━━━━━━━━━━━━━━━━\u001b[0m\u001b[37m\u001b[0m \u001b[1m140s\u001b[0m 72ms/step - accuracy: 0.9944 - loss: 0.0160 - val_accuracy: 0.7955 - val_loss: 1.6246\n",
            "Epoch 8/10\n",
            "\u001b[1m1149/1149\u001b[0m \u001b[32m━━━━━━━━━━━━━━━━━━━━\u001b[0m\u001b[37m\u001b[0m \u001b[1m0s\u001b[0m 95ms/step - accuracy: 0.9962 - loss: 0.0130\n",
            "Epoch 8: val_accuracy did not improve from 0.80094\n",
            "\u001b[1m1149/1149\u001b[0m \u001b[32m━━━━━━━━━━━━━━━━━━━━\u001b[0m\u001b[37m\u001b[0m \u001b[1m178s\u001b[0m 104ms/step - accuracy: 0.9962 - loss: 0.0130 - val_accuracy: 0.7957 - val_loss: 1.2892\n",
            "Epoch 9/10\n",
            "\u001b[1m1148/1149\u001b[0m \u001b[32m━━━━━━━━━━━━━━━━━━━\u001b[0m\u001b[37m━\u001b[0m \u001b[1m0s\u001b[0m 73ms/step - accuracy: 0.9966 - loss: 0.0106\n",
            "Epoch 9: val_accuracy did not improve from 0.80094\n",
            "\u001b[1m1149/1149\u001b[0m \u001b[32m━━━━━━━━━━━━━━━━━━━━\u001b[0m\u001b[37m\u001b[0m \u001b[1m111s\u001b[0m 77ms/step - accuracy: 0.9966 - loss: 0.0106 - val_accuracy: 0.7994 - val_loss: 1.8354\n",
            "Epoch 10/10\n",
            "\u001b[1m1148/1149\u001b[0m \u001b[32m━━━━━━━━━━━━━━━━━━━\u001b[0m\u001b[37m━\u001b[0m \u001b[1m0s\u001b[0m 71ms/step - accuracy: 0.9966 - loss: 0.0103\n",
            "Epoch 10: val_accuracy did not improve from 0.80094\n",
            "\u001b[1m1149/1149\u001b[0m \u001b[32m━━━━━━━━━━━━━━━━━━━━\u001b[0m\u001b[37m\u001b[0m \u001b[1m139s\u001b[0m 75ms/step - accuracy: 0.9966 - loss: 0.0103 - val_accuracy: 0.7797 - val_loss: 1.8506\n"
          ]
        },
        {
          "output_type": "execute_result",
          "data": {
            "text/plain": [
              "<keras.src.callbacks.history.History at 0x7c25b012cd10>"
            ]
          },
          "metadata": {},
          "execution_count": 8
        }
      ],
      "source": [
        "\n",
        "def get_model_gru(input_shape=(7, 1, 1, 1024)):\n",
        "    inputs = tf.keras.Input(shape=input_shape)\n",
        "    x = layers.Reshape((7, 1024))(inputs)\n",
        "    x = layers.Bidirectional(layers.GRU(64, return_sequences=True))(x)\n",
        "    x = layers.Bidirectional(layers.GRU(64, return_sequences=False))(x)\n",
        "    x = layers.Dropout(0.5)(x)\n",
        "    x = layers.Dense(256, activation='relu')(x)\n",
        "    x = layers.Dropout(0.5)(x)\n",
        "    x = layers.Dense(128, activation='relu')(x)\n",
        "    x = layers.Dropout(0.5)(x)\n",
        "    outputs = layers.Dense(1, activation='sigmoid')(x)\n",
        "    return tf.keras.Model(inputs, outputs)\n",
        "model = get_model_gru()\n",
        "model.compile(optimizer='adam', loss='binary_crossentropy', metrics=['accuracy'])\n",
        "checkpoint = tf.keras.callbacks.ModelCheckpoint(\"gru.keras\", save_best_only=True, monitor='val_accuracy', mode='max', verbose=1)\n",
        "model.fit(X_train, y_train, validation_data=(X_val, y_val), epochs=10, batch_size=64, callbacks=[checkpoint], verbose=1)"
      ]
    },
    {
      "cell_type": "code",
      "execution_count": null,
      "metadata": {
        "colab": {
          "base_uri": "https://localhost:8080/"
        },
        "outputId": "bb14e005-35cc-4a52-f105-a52d78b71956",
        "id": "3hyNppI32L1L"
      },
      "outputs": [
        {
          "output_type": "stream",
          "name": "stdout",
          "text": [
            "\u001b[1m511/511\u001b[0m \u001b[32m━━━━━━━━━━━━━━━━━━━━\u001b[0m\u001b[37m\u001b[0m \u001b[1m2s\u001b[0m 3ms/step\n",
            "Accuracy      : 0.8061\n",
            "Precision     : 0.8385\n",
            "Recall        : 0.7458\n",
            "F1 Score      : 0.7894\n",
            "ROC AUC       : 0.8830\n",
            "Confusion Matrix:\n",
            " [[7238 1144]\n",
            " [2025 5940]]\n",
            "Classification Report:\n",
            "               precision    recall  f1-score   support\n",
            "\n",
            "           0       0.78      0.86      0.82      8382\n",
            "           1       0.84      0.75      0.79      7965\n",
            "\n",
            "    accuracy                           0.81     16347\n",
            "   macro avg       0.81      0.80      0.80     16347\n",
            "weighted avg       0.81      0.81      0.81     16347\n",
            "\n"
          ]
        }
      ],
      "source": [
        "model = tf.keras.models.load_model(\"gru.keras\")\n",
        "evaluate_set(\"Validation\", model, X_val, y_val)\n"
      ]
    },
    {
      "cell_type": "markdown",
      "source": [
        "## Evaluate Ensemble Model on Validation Set (Sequence-Level)\n",
        "We ensemble all models by averaging their sequence-level prediction probabilities and evaluate the result using standard metrics.\n"
      ],
      "metadata": {
        "id": "GFTKAbGHxa9i"
      }
    },
    {
      "cell_type": "code",
      "source": [
        "from tensorflow.keras.models import load_model\n",
        "from sklearn.metrics import (\n",
        "    accuracy_score, precision_score, recall_score, f1_score,\n",
        "    roc_auc_score, confusion_matrix, classification_report\n",
        ")\n",
        "import numpy as np\n",
        "from tqdm import tqdm\n",
        "\n",
        "# Function to load model and get predictions\n",
        "def load_model_preds(model_path, X):\n",
        "    model = load_model(model_path)\n",
        "    preds = model.predict(X, verbose=0)\n",
        "    return preds.squeeze()\n",
        "\n",
        "# Evaluation metrics function\n",
        "def evaluate_preds(y_true, y_probs, threshold=0.5):\n",
        "    y_pred = (y_probs >= threshold).astype(int)\n",
        "    return {\n",
        "        \"accuracy\": accuracy_score(y_true, y_pred),\n",
        "        \"precision\": precision_score(y_true, y_pred),\n",
        "        \"recall\": recall_score(y_true, y_pred),\n",
        "        \"f1\": f1_score(y_true, y_pred),\n",
        "        \"roc_auc\": roc_auc_score(y_true, y_probs),\n",
        "        \"confusion_matrix\": confusion_matrix(y_true, y_pred),\n",
        "        \"classification_report\": classification_report(y_true, y_pred)\n",
        "    }\n",
        "\n",
        "# Ensemble model prediction and evaluation\n",
        "def ensemble_all_models(X, y, model_paths):\n",
        "    all_preds = []\n",
        "    for model_name, model_path in tqdm(model_paths.items(), desc=\"Loading Models\"):\n",
        "        preds = load_model_preds(model_path, X)\n",
        "        all_preds.append(preds)\n",
        "\n",
        "    avg_preds = np.mean(all_preds, axis=0)\n",
        "    metrics = evaluate_preds(y, avg_preds)\n",
        "\n",
        "    print(\"\\n✅ Ensemble of All Models (Sequence-Level):\")\n",
        "    for k in ['accuracy', 'precision', 'recall', 'f1', 'roc_auc']:\n",
        "        print(f\"{k.capitalize():<15}: {metrics[k]:.4f}\")\n",
        "    print(\"\\n📊 Confusion Matrix:\")\n",
        "    print(metrics['confusion_matrix'])\n",
        "    print(\"\\n📋 Classification Report:\")\n",
        "    print(metrics['classification_report'])\n",
        "\n",
        "    return metrics\n",
        "\n",
        "# Model paths\n",
        "model_paths = {\n",
        "    \"mean\": \"mean.keras\",\n",
        "    \"max\": \"max.keras\",\n",
        "    \"flatten\": \"flatten.keras\",\n",
        "    \"cnn\": \"cnn.keras\",\n",
        "    \"lstm\": \"lstm.keras\",\n",
        "    \"gru\": \"gru.keras\"\n",
        "}\n",
        "\n",
        "ensemble_val_metrics = ensemble_all_models(X_val, y_val, model_paths)\n"
      ],
      "metadata": {
        "colab": {
          "base_uri": "https://localhost:8080/"
        },
        "id": "gBoWd6wuxXDo",
        "outputId": "cd5254e6-a4a6-4d9e-a48f-c2fd47c431ec"
      },
      "execution_count": null,
      "outputs": [
        {
          "output_type": "stream",
          "name": "stderr",
          "text": [
            "Loading Models: 100%|██████████| 6/6 [00:31<00:00,  5.31s/it]"
          ]
        },
        {
          "output_type": "stream",
          "name": "stdout",
          "text": [
            "\n",
            "✅ Ensemble of All Models (Sequence-Level):\n",
            "Accuracy       : 0.8301\n",
            "Precision      : 0.8544\n",
            "Recall         : 0.7849\n",
            "F1             : 0.8182\n",
            "Roc_auc        : 0.8994\n",
            "\n",
            "📊 Confusion Matrix:\n",
            "[[7317 1065]\n",
            " [1713 6252]]\n",
            "\n",
            "📋 Classification Report:\n",
            "              precision    recall  f1-score   support\n",
            "\n",
            "           0       0.81      0.87      0.84      8382\n",
            "           1       0.85      0.78      0.82      7965\n",
            "\n",
            "    accuracy                           0.83     16347\n",
            "   macro avg       0.83      0.83      0.83     16347\n",
            "weighted avg       0.83      0.83      0.83     16347\n",
            "\n"
          ]
        },
        {
          "output_type": "stream",
          "name": "stderr",
          "text": [
            "\n"
          ]
        }
      ]
    },
    {
      "cell_type": "markdown",
      "source": [
        "## Visualize All Models' Metrics on Validation Set\n",
        "This plot highlights summary of the relative performance of each model across different metrics,\n"
      ],
      "metadata": {
        "id": "Qd0AT3aaxli1"
      }
    },
    {
      "cell_type": "code",
      "source": [
        "import pandas as pd\n",
        "import seaborn as sns\n",
        "import matplotlib.pyplot as plt\n",
        "\n",
        "# Function to evaluate individual models\n",
        "def evaluate_model(X, y_true, model_path, threshold=0.5):\n",
        "    y_probs = load_model_preds(model_path, X)\n",
        "    y_pred = (y_probs >= threshold).astype(int)\n",
        "\n",
        "    return {\n",
        "        \"accuracy\": accuracy_score(y_true, y_pred),\n",
        "        \"precision\": precision_score(y_true, y_pred),\n",
        "        \"recall\": recall_score(y_true, y_pred),\n",
        "        \"f1\": f1_score(y_true, y_pred),\n",
        "        \"roc_auc\": roc_auc_score(y_true, y_probs),\n",
        "    }\n",
        "\n",
        "# Collect metrics for all models\n",
        "def collect_all_metrics(X, y, model_paths):\n",
        "    metrics = {}\n",
        "    for name, path in tqdm(model_paths.items(), desc=\"Evaluating Models\"):\n",
        "        metrics[name] = evaluate_model(X, y, path)\n",
        "    metrics[\"ensemble\"] = {k: ensemble_val_metrics[k] for k in [\"accuracy\", \"precision\", \"recall\", \"f1\", \"roc_auc\"]}\n",
        "    return pd.DataFrame(metrics).T\n",
        "\n",
        "# Create and normalize DataFrame\n",
        "metrics_df = collect_all_metrics(X_val, y_val, model_paths)\n",
        "\n",
        "normalized_df = metrics_df.copy()\n",
        "for col in normalized_df.columns:\n",
        "    col_min = normalized_df[col].min()\n",
        "    col_max = normalized_df[col].max()\n",
        "    normalized_df[col] = (normalized_df[col] - col_min) / (col_max - col_min)\n",
        "\n",
        "# Heatmap\n",
        "plt.figure(figsize=(10, 6))\n",
        "sns.heatmap(normalized_df, annot=metrics_df.round(4), fmt=\"\", cmap=\"coolwarm\", linewidths=0.5, cbar_kws={\"label\": \"Relative Performance (0-1)\"})\n",
        "plt.title(\"📊 Validation Metrics Heatmap (All Models + Ensemble)\", fontsize=14)\n",
        "plt.yticks(rotation=0)\n",
        "plt.show()\n"
      ],
      "metadata": {
        "colab": {
          "base_uri": "https://localhost:8080/",
          "height": 590
        },
        "id": "uhMPWI2HxhrY",
        "outputId": "8699f609-1a44-445f-aebd-bfde876bca3b"
      },
      "execution_count": null,
      "outputs": [
        {
          "output_type": "stream",
          "name": "stderr",
          "text": [
            "Evaluating Models: 100%|██████████| 6/6 [00:33<00:00,  5.51s/it]\n",
            "/usr/local/lib/python3.11/dist-packages/IPython/core/pylabtools.py:151: UserWarning: Glyph 128202 (\\N{BAR CHART}) missing from font(s) DejaVu Sans.\n",
            "  fig.canvas.print_figure(bytes_io, **kw)\n"
          ]
        },
        {
          "output_type": "display_data",
          "data": {
            "text/plain": [
              "<Figure size 1000x600 with 2 Axes>"
            ],
            "image/png": "[encoded data removed]"
          },
          "metadata": {}
        }
      ]
    },
    {
      "cell_type": "markdown",
      "source": [
        "## Evaluate Video-Level Ensemble on Validation Set\n",
        "We evaluate at the video level using a below rule\n",
        "\n",
        "### Video Evaluation Rule\n",
        "\n",
        "A video is labeled **anomalous** if **≥ video_anomaly_proportion_threshold%** of its sequences have an anomaly probability **≥ sequence_anomaly_confidence_threshold**.  \n",
        "Otherwise, it is labeled **normal**.\n",
        "\n",
        "**Where:**\n",
        "\n",
        "1. **sequence_anomaly_confidence_threshold** — the minimum probability for a sequence to be considered anomalous.\n",
        "\n",
        "2. **video_anomaly_proportion_threshold** — the minimum percentage of sequences in the video that must meet the confidence threshold for the whole video to be classified as anomalous.\n",
        "\n"
      ],
      "metadata": {
        "id": "Vb2fhqMpyOs6"
      }
    },
    {
      "cell_type": "code",
      "source": [
        "import os\n",
        "import numpy as np\n",
        "import pandas as pd\n",
        "from tqdm import tqdm\n",
        "import tensorflow as tf\n",
        "from tensorflow.keras.models import load_model\n",
        "from sklearn.metrics import (\n",
        "    accuracy_score,\n",
        "    precision_score,\n",
        "    recall_score,\n",
        "    f1_score,\n",
        "    roc_auc_score\n",
        ")\n",
        "\n",
        "# ==== CONFIG ====\n",
        "LABEL_MAP = {'normal': 0, 'anomaly': 1}\n",
        "model_paths = {\n",
        "    \"mean\": \"mean.keras\",\n",
        "    \"max\": \"max.keras\",\n",
        "    \"flatten\": \"flatten.keras\",\n",
        "    \"cnn\": \"cnn.keras\",\n",
        "    \"lstm\": \"lstm.keras\",\n",
        "    \"gru\": \"gru.keras\"\n",
        "}\n",
        "\n",
        "VAL_SPLIT_DIR = \"/content/ucf-crime-splitted-i3d-features/val\"\n",
        "\n",
        "# ==== Load Models ====\n",
        "print(\"🔄 Loading models...\")\n",
        "models = {name: load_model(path) for name, path in model_paths.items()}\n",
        "print(\"✅ Models ready!\\n\")\n",
        "\n",
        "# ==== Predict Helper ====\n",
        "@tf.function(reduce_retracing=True)\n",
        "def predict_model(model, inputs):\n",
        "    return model(inputs, training=False)\n",
        "\n",
        "# ==== Load All Videos ONCE ====\n",
        "print(\"📂 Loading validation videos...\")\n",
        "\n",
        "video_data = []  # [(label, [sequences])]\n",
        "for label in ['normal', 'anomaly']:\n",
        "    label_dir = os.path.join(VAL_SPLIT_DIR, label)\n",
        "    if not os.path.isdir(label_dir):\n",
        "        continue\n",
        "\n",
        "    for video in tqdm(os.listdir(label_dir), desc=f\"Loading {label}\", unit=\"video\"):\n",
        "        path = os.path.join(label_dir, video)\n",
        "        sequences = []\n",
        "        for file in sorted(os.listdir(path)):\n",
        "            if file.endswith('.npz'):\n",
        "                arr = np.load(os.path.join(path, file))['feature_array']\n",
        "                sequences.append(arr)\n",
        "        video_data.append({\n",
        "            \"label\": LABEL_MAP[label],\n",
        "            \"sequences\": np.array(sequences)\n",
        "        })\n",
        "\n",
        "print(f\"✅ Total videos loaded: {len(video_data)}\\n\")\n",
        "\n",
        "# ==== Video prediction ====\n",
        "def predict_video_label_and_score(sequences, conf_thresh, threshold_percent):\n",
        "    if len(sequences) == 0:\n",
        "        return 0, 0.5\n",
        "    all_preds = [predict_model(model, sequences).numpy().squeeze() for model in models.values()]\n",
        "    avg_preds = np.mean(np.stack(all_preds), axis=0)\n",
        "    high_conf = np.sum(avg_preds >= conf_thresh)\n",
        "    threshold_count = max(1, int(np.ceil(len(sequences) * threshold_percent)))\n",
        "    pred = int(high_conf >= threshold_count)\n",
        "    return pred, np.mean(avg_preds)\n",
        "\n",
        "# ==== Grid Search ====\n",
        "conf_range = np.arange(0.87, 0.91 + 0.001, 0.01)\n",
        "percent_range = np.arange(0.040, 0.070 + 0.0001, 0.001)\n",
        "\n",
        "results = []\n",
        "total_steps = len(conf_range) * len(percent_range)\n",
        "\n",
        "print(f\"🔍 Grid Search: {total_steps} combinations...\\n\")\n",
        "\n",
        "with tqdm(total=total_steps, desc=\"Grid Search\", unit=\"comb\") as pbar:\n",
        "    for conf_thresh in conf_range:\n",
        "        for percent_thresh in percent_range:\n",
        "            y_true, y_pred, y_scores = [], [], []\n",
        "            for vid in video_data:\n",
        "                pred, score = predict_video_label_and_score(\n",
        "                    vid['sequences'],\n",
        "                    conf_thresh,\n",
        "                    percent_thresh\n",
        "                )\n",
        "                y_true.append(vid['label'])\n",
        "                y_pred.append(pred)\n",
        "                y_scores.append(score)\n",
        "\n",
        "            try:\n",
        "                roc_auc = roc_auc_score(y_true, y_scores)\n",
        "            except:\n",
        "                roc_auc = np.nan\n",
        "\n",
        "            row = {\n",
        "                \"sequence_anomaly_confidence_threshold\": round(conf_thresh, 3),\n",
        "                \"video_anomaly_proportion_threshold\": round(percent_thresh, 3),\n",
        "                \"precision\": precision_score(y_true, y_pred, zero_division=0),\n",
        "                \"recall\": recall_score(y_true, y_pred, zero_division=0),\n",
        "                \"f1\": f1_score(y_true, y_pred, zero_division=0),\n",
        "                \"roc_auc\": roc_auc,\n",
        "                \"accuracy\": accuracy_score(y_true, y_pred)\n",
        "            }\n",
        "            results.append(row)\n",
        "            pbar.set_postfix({\n",
        "                \"conf\": f\"{conf_thresh:.3f}\",\n",
        "                \"percent\": f\"{percent_thresh:.3f}\",\n",
        "                \"f1\": f\"{row['f1']:.4f}\"\n",
        "            })\n",
        "            pbar.update(1)\n",
        "\n",
        "# ==== create dataframe of results ====\n",
        "df = pd.DataFrame(results)\n",
        "print(\"\\n✅ Grid Search Done!\")"
      ],
      "metadata": {
        "colab": {
          "base_uri": "https://localhost:8080/"
        },
        "id": "WeOaHqbEBz5c",
        "outputId": "44c0af5a-cc81-43d6-de19-f798acd2afd8"
      },
      "execution_count": null,
      "outputs": [
        {
          "output_type": "stream",
          "name": "stdout",
          "text": [
            "🔄 Loading models...\n",
            "✅ Models ready!\n",
            "\n",
            "📂 Loading validation videos...\n"
          ]
        },
        {
          "output_type": "stream",
          "name": "stderr",
          "text": [
            "Loading normal: 100%|██████████| 142/142 [00:07<00:00, 18.99video/s]\n",
            "Loading anomaly: 100%|██████████| 143/143 [00:08<00:00, 16.49video/s]\n"
          ]
        },
        {
          "output_type": "stream",
          "name": "stdout",
          "text": [
            "✅ Total videos loaded: 285\n",
            "\n",
            "🔍 Grid Search: 155 combinations...\n",
            "\n"
          ]
        },
        {
          "output_type": "stream",
          "name": "stderr",
          "text": [
            "\rGrid Search:   0%|          | 0/155 [00:00<?, ?comb/s]WARNING:tensorflow:5 out of the last 5 calls to <function predict_model at 0x792792506520> triggered tf.function retracing. Tracing is expensive and the excessive number of tracings could be due to (1) creating @tf.function repeatedly in a loop, (2) passing tensors with different shapes, (3) passing Python objects instead of tensors. For (1), please define your @tf.function outside of the loop. For (2), @tf.function has reduce_retracing=True option that can avoid unnecessary retracing. For (3), please refer to https://www.tensorflow.org/guide/function#controlling_retracing and https://www.tensorflow.org/api_docs/python/tf/function for  more details.\n",
            "WARNING:tensorflow:6 out of the last 6 calls to <function predict_model at 0x792792506520> triggered tf.function retracing. Tracing is expensive and the excessive number of tracings could be due to (1) creating @tf.function repeatedly in a loop, (2) passing tensors with different shapes, (3) passing Python objects instead of tensors. For (1), please define your @tf.function outside of the loop. For (2), @tf.function has reduce_retracing=True option that can avoid unnecessary retracing. For (3), please refer to https://www.tensorflow.org/guide/function#controlling_retracing and https://www.tensorflow.org/api_docs/python/tf/function for  more details.\n",
            "Grid Search: 100%|██████████| 155/155 [30:15<00:00, 11.71s/comb, conf=0.910, percent=0.070, f1=0.8664]"
          ]
        },
        {
          "output_type": "stream",
          "name": "stdout",
          "text": [
            "\n",
            "✅ Grid Search Done!\n"
          ]
        },
        {
          "output_type": "stream",
          "name": "stderr",
          "text": [
            "\n"
          ]
        }
      ]
    },
    {
      "cell_type": "code",
      "source": [
        "df.sort_values(by=\"f1\", ascending=False).head()"
      ],
      "metadata": {
        "colab": {
          "base_uri": "https://localhost:8080/",
          "height": 226
        },
        "id": "jg_HSMw2P8hS",
        "outputId": "003fa9b0-1cf9-4380-b02c-acc5762ef761"
      },
      "execution_count": null,
      "outputs": [
        {
          "output_type": "execute_result",
          "data": {
            "text/plain": [
              "     sequence_anomaly_confidence_threshold  \\\n",
              "112                                   0.90   \n",
              "114                                   0.90   \n",
              "83                                    0.89   \n",
              "82                                    0.89   \n",
              "84                                    0.89   \n",
              "\n",
              "     video_anomaly_proportion_threshold  precision    recall        f1  \\\n",
              "112                               0.059   0.897059  0.853147  0.874552   \n",
              "114                               0.061   0.897059  0.853147  0.874552   \n",
              "83                                0.061   0.897059  0.853147  0.874552   \n",
              "82                                0.060   0.897059  0.853147  0.874552   \n",
              "84                                0.062   0.897059  0.853147  0.874552   \n",
              "\n",
              "      roc_auc  accuracy  \n",
              "112  0.937408  0.877193  \n",
              "114  0.937408  0.877193  \n",
              "83   0.937408  0.877193  \n",
              "82   0.937408  0.877193  \n",
              "84   0.937408  0.877193  "
            ],
            "text/html": [
              "\n",
              "  <div id=\"df-3dc94fac-b1ff-44fa-834d-0401e13da916\" class=\"colab-df-container\">\n",
              "    <div>\n",
              "<style scoped>\n",
              "    .dataframe tbody tr th:only-of-type {\n",
              "        vertical-align: middle;\n",
              "    }\n",
              "\n",
              "    .dataframe tbody tr th {\n",
              "        vertical-align: top;\n",
              "    }\n",
              "\n",
              "    .dataframe thead th {\n",
              "        text-align: right;\n",
              "    }\n",
              "</style>\n",
              "<table border=\"1\" class=\"dataframe\">\n",
              "  <thead>\n",
              "    <tr style=\"text-align: right;\">\n",
              "      <th></th>\n",
              "      <th>sequence_anomaly_confidence_threshold</th>\n",
              "      <th>video_anomaly_proportion_threshold</th>\n",
              "      <th>precision</th>\n",
              "      <th>recall</th>\n",
              "      <th>f1</th>\n",
              "      <th>roc_auc</th>\n",
              "      <th>accuracy</th>\n",
              "    </tr>\n",
              "  </thead>\n",
              "  <tbody>\n",
              "    <tr>\n",
              "      <th>112</th>\n",
              "      <td>0.90</td>\n",
              "      <td>0.059</td>\n",
              "      <td>0.897059</td>\n",
              "      <td>0.853147</td>\n",
              "      <td>0.874552</td>\n",
              "      <td>0.937408</td>\n",
              "      <td>0.877193</td>\n",
              "    </tr>\n",
              "    <tr>\n",
              "      <th>114</th>\n",
              "      <td>0.90</td>\n",
              "      <td>0.061</td>\n",
              "      <td>0.897059</td>\n",
              "      <td>0.853147</td>\n",
              "      <td>0.874552</td>\n",
              "      <td>0.937408</td>\n",
              "      <td>0.877193</td>\n",
              "    </tr>\n",
              "    <tr>\n",
              "      <th>83</th>\n",
              "      <td>0.89</td>\n",
              "      <td>0.061</td>\n",
              "      <td>0.897059</td>\n",
              "      <td>0.853147</td>\n",
              "      <td>0.874552</td>\n",
              "      <td>0.937408</td>\n",
              "      <td>0.877193</td>\n",
              "    </tr>\n",
              "    <tr>\n",
              "      <th>82</th>\n",
              "      <td>0.89</td>\n",
              "      <td>0.060</td>\n",
              "      <td>0.897059</td>\n",
              "      <td>0.853147</td>\n",
              "      <td>0.874552</td>\n",
              "      <td>0.937408</td>\n",
              "      <td>0.877193</td>\n",
              "    </tr>\n",
              "    <tr>\n",
              "      <th>84</th>\n",
              "      <td>0.89</td>\n",
              "      <td>0.062</td>\n",
              "      <td>0.897059</td>\n",
              "      <td>0.853147</td>\n",
              "      <td>0.874552</td>\n",
              "      <td>0.937408</td>\n",
              "      <td>0.877193</td>\n",
              "    </tr>\n",
              "  </tbody>\n",
              "</table>\n",
              "</div>\n",
              "    <div class=\"colab-df-buttons\">\n",
              "\n",
              "  <div class=\"colab-df-container\">\n",
              "    <button class=\"colab-df-convert\" onclick=\"convertToInteractive('df-3dc94fac-b1ff-44fa-834d-0401e13da916')\"\n",
              "            title=\"Convert this dataframe to an interactive table.\"\n",
              "            style=\"display:none;\">\n",
              "\n",
              "  <svg xmlns=\"http://www.w3.org/2000/svg\" height=\"24px\" viewBox=\"0 -960 960 960\">\n",
              "    <path d=\"M120-120v-720h720v720H120Zm60-500h600v-160H180v160Zm220 220h160v-160H400v160Zm0 220h160v-160H400v160ZM180-400h160v-160H180v160Zm440 0h160v-160H620v160ZM180-180h160v-160H180v160Zm440 0h160v-160H620v160Z\"/>\n",
              "  </svg>\n",
              "    </button>\n",
              "\n",
              "  <style>\n",
              "    .colab-df-container {\n",
              "      display:flex;\n",
              "      gap: 12px;\n",
              "    }\n",
              "\n",
              "    .colab-df-convert {\n",
              "      background-color: #E8F0FE;\n",
              "      border: none;\n",
              "      border-radius: 50%;\n",
              "      cursor: pointer;\n",
              "      display: none;\n",
              "      fill: #1967D2;\n",
              "      height: 32px;\n",
              "      padding: 0 0 0 0;\n",
              "      width: 32px;\n",
              "    }\n",
              "\n",
              "    .colab-df-convert:hover {\n",
              "      background-color: #E2EBFA;\n",
              "      box-shadow: 0px 1px 2px rgba(60, 64, 67, 0.3), 0px 1px 3px 1px rgba(60, 64, 67, 0.15);\n",
              "      fill: #174EA6;\n",
              "    }\n",
              "\n",
              "    .colab-df-buttons div {\n",
              "      margin-bottom: 4px;\n",
              "    }\n",
              "\n",
              "    [theme=dark] .colab-df-convert {\n",
              "      background-color: #3B4455;\n",
              "      fill: #D2E3FC;\n",
              "    }\n",
              "\n",
              "    [theme=dark] .colab-df-convert:hover {\n",
              "      background-color: #434B5C;\n",
              "      box-shadow: 0px 1px 3px 1px rgba(0, 0, 0, 0.15);\n",
              "      filter: drop-shadow(0px 1px 2px rgba(0, 0, 0, 0.3));\n",
              "      fill: #FFFFFF;\n",
              "    }\n",
              "  </style>\n",
              "\n",
              "    <script>\n",
              "      const buttonEl =\n",
              "        document.querySelector('#df-3dc94fac-b1ff-44fa-834d-0401e13da916 button.colab-df-convert');\n",
              "      buttonEl.style.display =\n",
              "        google.colab.kernel.accessAllowed ? 'block' : 'none';\n",
              "\n",
              "      async function convertToInteractive(key) {\n",
              "        const element = document.querySelector('#df-3dc94fac-b1ff-44fa-834d-0401e13da916');\n",
              "        const dataTable =\n",
              "          await google.colab.kernel.invokeFunction('convertToInteractive',\n",
              "                                                    [key], {});\n",
              "        if (!dataTable) return;\n",
              "\n",
              "        const docLinkHtml = 'Like what you see? Visit the ' +\n",
              "          '<a target=\"_blank\" href=https://colab.research.google.com/notebooks/data_table.ipynb>data table notebook</a>'\n",
              "          + ' to learn more about interactive tables.';\n",
              "        element.innerHTML = '';\n",
              "        dataTable['output_type'] = 'display_data';\n",
              "        await google.colab.output.renderOutput(dataTable, element);\n",
              "        const docLink = document.createElement('div');\n",
              "        docLink.innerHTML = docLinkHtml;\n",
              "        element.appendChild(docLink);\n",
              "      }\n",
              "    </script>\n",
              "  </div>\n",
              "\n",
              "\n",
              "    <div id=\"df-2979b00a-3e94-4cae-bec0-8c34fe8f977b\">\n",
              "      <button class=\"colab-df-quickchart\" onclick=\"quickchart('df-2979b00a-3e94-4cae-bec0-8c34fe8f977b')\"\n",
              "                title=\"Suggest charts\"\n",
              "                style=\"display:none;\">\n",
              "\n",
              "<svg xmlns=\"http://www.w3.org/2000/svg\" height=\"24px\"viewBox=\"0 0 24 24\"\n",
              "     width=\"24px\">\n",
              "    <g>\n",
              "        <path d=\"M19 3H5c-1.1 0-2 .9-2 2v14c0 1.1.9 2 2 2h14c1.1 0 2-.9 2-2V5c0-1.1-.9-2-2-2zM9 17H7v-7h2v7zm4 0h-2V7h2v10zm4 0h-2v-4h2v4z\"/>\n",
              "    </g>\n",
              "</svg>\n",
              "      </button>\n",
              "\n",
              "<style>\n",
              "  .colab-df-quickchart {\n",
              "      --bg-color: #E8F0FE;\n",
              "      --fill-color: #1967D2;\n",
              "      --hover-bg-color: #E2EBFA;\n",
              "      --hover-fill-color: #174EA6;\n",
              "      --disabled-fill-color: #AAA;\n",
              "      --disabled-bg-color: #DDD;\n",
              "  }\n",
              "\n",
              "  [theme=dark] .colab-df-quickchart {\n",
              "      --bg-color: #3B4455;\n",
              "      --fill-color: #D2E3FC;\n",
              "      --hover-bg-color: #434B5C;\n",
              "      --hover-fill-color: #FFFFFF;\n",
              "      --disabled-bg-color: #3B4455;\n",
              "      --disabled-fill-color: #666;\n",
              "  }\n",
              "\n",
              "  .colab-df-quickchart {\n",
              "    background-color: var(--bg-color);\n",
              "    border: none;\n",
              "    border-radius: 50%;\n",
              "    cursor: pointer;\n",
              "    display: none;\n",
              "    fill: var(--fill-color);\n",
              "    height: 32px;\n",
              "    padding: 0;\n",
              "    width: 32px;\n",
              "  }\n",
              "\n",
              "  .colab-df-quickchart:hover {\n",
              "    background-color: var(--hover-bg-color);\n",
              "    box-shadow: 0 1px 2px rgba(60, 64, 67, 0.3), 0 1px 3px 1px rgba(60, 64, 67, 0.15);\n",
              "    fill: var(--button-hover-fill-color);\n",
              "  }\n",
              "\n",
              "  .colab-df-quickchart-complete:disabled,\n",
              "  .colab-df-quickchart-complete:disabled:hover {\n",
              "    background-color: var(--disabled-bg-color);\n",
              "    fill: var(--disabled-fill-color);\n",
              "    box-shadow: none;\n",
              "  }\n",
              "\n",
              "  .colab-df-spinner {\n",
              "    border: 2px solid var(--fill-color);\n",
              "    border-color: transparent;\n",
              "    border-bottom-color: var(--fill-color);\n",
              "    animation:\n",
              "      spin 1s steps(1) infinite;\n",
              "  }\n",
              "\n",
              "  @keyframes spin {\n",
              "    0% {\n",
              "      border-color: transparent;\n",
              "      border-bottom-color: var(--fill-color);\n",
              "      border-left-color: var(--fill-color);\n",
              "    }\n",
              "    20% {\n",
              "      border-color: transparent;\n",
              "      border-left-color: var(--fill-color);\n",
              "      border-top-color: var(--fill-color);\n",
              "    }\n",
              "    30% {\n",
              "      border-color: transparent;\n",
              "      border-left-color: var(--fill-color);\n",
              "      border-top-color: var(--fill-color);\n",
              "      border-right-color: var(--fill-color);\n",
              "    }\n",
              "    40% {\n",
              "      border-color: transparent;\n",
              "      border-right-color: var(--fill-color);\n",
              "      border-top-color: var(--fill-color);\n",
              "    }\n",
              "    60% {\n",
              "      border-color: transparent;\n",
              "      border-right-color: var(--fill-color);\n",
              "    }\n",
              "    80% {\n",
              "      border-color: transparent;\n",
              "      border-right-color: var(--fill-color);\n",
              "      border-bottom-color: var(--fill-color);\n",
              "    }\n",
              "    90% {\n",
              "      border-color: transparent;\n",
              "      border-bottom-color: var(--fill-color);\n",
              "    }\n",
              "  }\n",
              "</style>\n",
              "\n",
              "      <script>\n",
              "        async function quickchart(key) {\n",
              "          const quickchartButtonEl =\n",
              "            document.querySelector('#' + key + ' button');\n",
              "          quickchartButtonEl.disabled = true;  // To prevent multiple clicks.\n",
              "          quickchartButtonEl.classList.add('colab-df-spinner');\n",
              "          try {\n",
              "            const charts = await google.colab.kernel.invokeFunction(\n",
              "                'suggestCharts', [key], {});\n",
              "          } catch (error) {\n",
              "            console.error('Error during call to suggestCharts:', error);\n",
              "          }\n",
              "          quickchartButtonEl.classList.remove('colab-df-spinner');\n",
              "          quickchartButtonEl.classList.add('colab-df-quickchart-complete');\n",
              "        }\n",
              "        (() => {\n",
              "          let quickchartButtonEl =\n",
              "            document.querySelector('#df-2979b00a-3e94-4cae-bec0-8c34fe8f977b button');\n",
              "          quickchartButtonEl.style.display =\n",
              "            google.colab.kernel.accessAllowed ? 'block' : 'none';\n",
              "        })();\n",
              "      </script>\n",
              "    </div>\n",
              "\n",
              "    </div>\n",
              "  </div>\n"
            ],
            "application/vnd.google.colaboratory.intrinsic+json": {
              "type": "dataframe",
              "summary": "{\n  \"name\": \"df\",\n  \"rows\": 5,\n  \"fields\": [\n    {\n      \"column\": \"sequence_anomaly_confidence_threshold\",\n      \"properties\": {\n        \"dtype\": \"number\",\n        \"std\": 0.0054772255750516665,\n        \"min\": 0.89,\n        \"max\": 0.9,\n        \"num_unique_values\": 2,\n        \"samples\": [\n          0.89,\n          0.9\n        ],\n        \"semantic_type\": \"\",\n        \"description\": \"\"\n      }\n    },\n    {\n      \"column\": \"video_anomaly_proportion_threshold\",\n      \"properties\": {\n        \"dtype\": \"number\",\n        \"std\": 0.001140175425099139,\n        \"min\": 0.059,\n        \"max\": 0.062,\n        \"num_unique_values\": 4,\n        \"samples\": [\n          0.061,\n          0.062\n        ],\n        \"semantic_type\": \"\",\n        \"description\": \"\"\n      }\n    },\n    {\n      \"column\": \"precision\",\n      \"properties\": {\n        \"dtype\": \"number\",\n        \"std\": 0.0,\n        \"min\": 0.8970588235294118,\n        \"max\": 0.8970588235294118,\n        \"num_unique_values\": 1,\n        \"samples\": [\n          0.8970588235294118\n        ],\n        \"semantic_type\": \"\",\n        \"description\": \"\"\n      }\n    },\n    {\n      \"column\": \"recall\",\n      \"properties\": {\n        \"dtype\": \"number\",\n        \"std\": 0.0,\n        \"min\": 0.8531468531468531,\n        \"max\": 0.8531468531468531,\n        \"num_unique_values\": 1,\n        \"samples\": [\n          0.8531468531468531\n        ],\n        \"semantic_type\": \"\",\n        \"description\": \"\"\n      }\n    },\n    {\n      \"column\": \"f1\",\n      \"properties\": {\n        \"dtype\": \"number\",\n        \"std\": 0.0,\n        \"min\": 0.8745519713261649,\n        \"max\": 0.8745519713261649,\n        \"num_unique_values\": 1,\n        \"samples\": [\n          0.8745519713261649\n        ],\n        \"semantic_type\": \"\",\n        \"description\": \"\"\n      }\n    },\n    {\n      \"column\": \"roc_auc\",\n      \"properties\": {\n        \"dtype\": \"number\",\n        \"std\": 1.2412670766236366e-16,\n        \"min\": 0.9374076627597753,\n        \"max\": 0.9374076627597753,\n        \"num_unique_values\": 1,\n        \"samples\": [\n          0.9374076627597753\n        ],\n        \"semantic_type\": \"\",\n        \"description\": \"\"\n      }\n    },\n    {\n      \"column\": \"accuracy\",\n      \"properties\": {\n        \"dtype\": \"number\",\n        \"std\": 1.2412670766236366e-16,\n        \"min\": 0.8771929824561403,\n        \"max\": 0.8771929824561403,\n        \"num_unique_values\": 1,\n        \"samples\": [\n          0.8771929824561403\n        ],\n        \"semantic_type\": \"\",\n        \"description\": \"\"\n      }\n    }\n  ]\n}"
            }
          },
          "metadata": {},
          "execution_count": 16
        }
      ]
    },
    {
      "cell_type": "code",
      "source": [
        "df.sort_values(by=\"recall\", ascending=False).head()"
      ],
      "metadata": {
        "colab": {
          "base_uri": "https://localhost:8080/",
          "height": 226
        },
        "id": "j9SJNrZgboh0",
        "outputId": "c96deddf-bb24-42df-96d0-10c6339e8e7d"
      },
      "execution_count": null,
      "outputs": [
        {
          "output_type": "execute_result",
          "data": {
            "text/plain": [
              "   sequence_anomaly_confidence_threshold  video_anomaly_proportion_threshold  \\\n",
              "0                                   0.87                               0.040   \n",
              "1                                   0.87                               0.041   \n",
              "2                                   0.87                               0.042   \n",
              "3                                   0.87                               0.043   \n",
              "4                                   0.87                               0.044   \n",
              "\n",
              "   precision   recall        f1   roc_auc  accuracy  \n",
              "0   0.848276  0.86014  0.854167  0.937408  0.852632  \n",
              "1   0.848276  0.86014  0.854167  0.937408  0.852632  \n",
              "2   0.848276  0.86014  0.854167  0.937408  0.852632  \n",
              "3   0.848276  0.86014  0.854167  0.937408  0.852632  \n",
              "4   0.848276  0.86014  0.854167  0.937408  0.852632  "
            ],
            "text/html": [
              "\n",
              "  <div id=\"df-08aaae2a-0f92-4a47-829d-0cd80d7397e3\" class=\"colab-df-container\">\n",
              "    <div>\n",
              "<style scoped>\n",
              "    .dataframe tbody tr th:only-of-type {\n",
              "        vertical-align: middle;\n",
              "    }\n",
              "\n",
              "    .dataframe tbody tr th {\n",
              "        vertical-align: top;\n",
              "    }\n",
              "\n",
              "    .dataframe thead th {\n",
              "        text-align: right;\n",
              "    }\n",
              "</style>\n",
              "<table border=\"1\" class=\"dataframe\">\n",
              "  <thead>\n",
              "    <tr style=\"text-align: right;\">\n",
              "      <th></th>\n",
              "      <th>sequence_anomaly_confidence_threshold</th>\n",
              "      <th>video_anomaly_proportion_threshold</th>\n",
              "      <th>precision</th>\n",
              "      <th>recall</th>\n",
              "      <th>f1</th>\n",
              "      <th>roc_auc</th>\n",
              "      <th>accuracy</th>\n",
              "    </tr>\n",
              "  </thead>\n",
              "  <tbody>\n",
              "    <tr>\n",
              "      <th>0</th>\n",
              "      <td>0.87</td>\n",
              "      <td>0.040</td>\n",
              "      <td>0.848276</td>\n",
              "      <td>0.86014</td>\n",
              "      <td>0.854167</td>\n",
              "      <td>0.937408</td>\n",
              "      <td>0.852632</td>\n",
              "    </tr>\n",
              "    <tr>\n",
              "      <th>1</th>\n",
              "      <td>0.87</td>\n",
              "      <td>0.041</td>\n",
              "      <td>0.848276</td>\n",
              "      <td>0.86014</td>\n",
              "      <td>0.854167</td>\n",
              "      <td>0.937408</td>\n",
              "      <td>0.852632</td>\n",
              "    </tr>\n",
              "    <tr>\n",
              "      <th>2</th>\n",
              "      <td>0.87</td>\n",
              "      <td>0.042</td>\n",
              "      <td>0.848276</td>\n",
              "      <td>0.86014</td>\n",
              "      <td>0.854167</td>\n",
              "      <td>0.937408</td>\n",
              "      <td>0.852632</td>\n",
              "    </tr>\n",
              "    <tr>\n",
              "      <th>3</th>\n",
              "      <td>0.87</td>\n",
              "      <td>0.043</td>\n",
              "      <td>0.848276</td>\n",
              "      <td>0.86014</td>\n",
              "      <td>0.854167</td>\n",
              "      <td>0.937408</td>\n",
              "      <td>0.852632</td>\n",
              "    </tr>\n",
              "    <tr>\n",
              "      <th>4</th>\n",
              "      <td>0.87</td>\n",
              "      <td>0.044</td>\n",
              "      <td>0.848276</td>\n",
              "      <td>0.86014</td>\n",
              "      <td>0.854167</td>\n",
              "      <td>0.937408</td>\n",
              "      <td>0.852632</td>\n",
              "    </tr>\n",
              "  </tbody>\n",
              "</table>\n",
              "</div>\n",
              "    <div class=\"colab-df-buttons\">\n",
              "\n",
              "  <div class=\"colab-df-container\">\n",
              "    <button class=\"colab-df-convert\" onclick=\"convertToInteractive('df-08aaae2a-0f92-4a47-829d-0cd80d7397e3')\"\n",
              "            title=\"Convert this dataframe to an interactive table.\"\n",
              "            style=\"display:none;\">\n",
              "\n",
              "  <svg xmlns=\"http://www.w3.org/2000/svg\" height=\"24px\" viewBox=\"0 -960 960 960\">\n",
              "    <path d=\"M120-120v-720h720v720H120Zm60-500h600v-160H180v160Zm220 220h160v-160H400v160Zm0 220h160v-160H400v160ZM180-400h160v-160H180v160Zm440 0h160v-160H620v160ZM180-180h160v-160H180v160Zm440 0h160v-160H620v160Z\"/>\n",
              "  </svg>\n",
              "    </button>\n",
              "\n",
              "  <style>\n",
              "    .colab-df-container {\n",
              "      display:flex;\n",
              "      gap: 12px;\n",
              "    }\n",
              "\n",
              "    .colab-df-convert {\n",
              "      background-color: #E8F0FE;\n",
              "      border: none;\n",
              "      border-radius: 50%;\n",
              "      cursor: pointer;\n",
              "      display: none;\n",
              "      fill: #1967D2;\n",
              "      height: 32px;\n",
              "      padding: 0 0 0 0;\n",
              "      width: 32px;\n",
              "    }\n",
              "\n",
              "    .colab-df-convert:hover {\n",
              "      background-color: #E2EBFA;\n",
              "      box-shadow: 0px 1px 2px rgba(60, 64, 67, 0.3), 0px 1px 3px 1px rgba(60, 64, 67, 0.15);\n",
              "      fill: #174EA6;\n",
              "    }\n",
              "\n",
              "    .colab-df-buttons div {\n",
              "      margin-bottom: 4px;\n",
              "    }\n",
              "\n",
              "    [theme=dark] .colab-df-convert {\n",
              "      background-color: #3B4455;\n",
              "      fill: #D2E3FC;\n",
              "    }\n",
              "\n",
              "    [theme=dark] .colab-df-convert:hover {\n",
              "      background-color: #434B5C;\n",
              "      box-shadow: 0px 1px 3px 1px rgba(0, 0, 0, 0.15);\n",
              "      filter: drop-shadow(0px 1px 2px rgba(0, 0, 0, 0.3));\n",
              "      fill: #FFFFFF;\n",
              "    }\n",
              "  </style>\n",
              "\n",
              "    <script>\n",
              "      const buttonEl =\n",
              "        document.querySelector('#df-08aaae2a-0f92-4a47-829d-0cd80d7397e3 button.colab-df-convert');\n",
              "      buttonEl.style.display =\n",
              "        google.colab.kernel.accessAllowed ? 'block' : 'none';\n",
              "\n",
              "      async function convertToInteractive(key) {\n",
              "        const element = document.querySelector('#df-08aaae2a-0f92-4a47-829d-0cd80d7397e3');\n",
              "        const dataTable =\n",
              "          await google.colab.kernel.invokeFunction('convertToInteractive',\n",
              "                                                    [key], {});\n",
              "        if (!dataTable) return;\n",
              "\n",
              "        const docLinkHtml = 'Like what you see? Visit the ' +\n",
              "          '<a target=\"_blank\" href=https://colab.research.google.com/notebooks/data_table.ipynb>data table notebook</a>'\n",
              "          + ' to learn more about interactive tables.';\n",
              "        element.innerHTML = '';\n",
              "        dataTable['output_type'] = 'display_data';\n",
              "        await google.colab.output.renderOutput(dataTable, element);\n",
              "        const docLink = document.createElement('div');\n",
              "        docLink.innerHTML = docLinkHtml;\n",
              "        element.appendChild(docLink);\n",
              "      }\n",
              "    </script>\n",
              "  </div>\n",
              "\n",
              "\n",
              "    <div id=\"df-a769613e-4e21-4fe0-b076-56d55c0b600d\">\n",
              "      <button class=\"colab-df-quickchart\" onclick=\"quickchart('df-a769613e-4e21-4fe0-b076-56d55c0b600d')\"\n",
              "                title=\"Suggest charts\"\n",
              "                style=\"display:none;\">\n",
              "\n",
              "<svg xmlns=\"http://www.w3.org/2000/svg\" height=\"24px\"viewBox=\"0 0 24 24\"\n",
              "     width=\"24px\">\n",
              "    <g>\n",
              "        <path d=\"M19 3H5c-1.1 0-2 .9-2 2v14c0 1.1.9 2 2 2h14c1.1 0 2-.9 2-2V5c0-1.1-.9-2-2-2zM9 17H7v-7h2v7zm4 0h-2V7h2v10zm4 0h-2v-4h2v4z\"/>\n",
              "    </g>\n",
              "</svg>\n",
              "      </button>\n",
              "\n",
              "<style>\n",
              "  .colab-df-quickchart {\n",
              "      --bg-color: #E8F0FE;\n",
              "      --fill-color: #1967D2;\n",
              "      --hover-bg-color: #E2EBFA;\n",
              "      --hover-fill-color: #174EA6;\n",
              "      --disabled-fill-color: #AAA;\n",
              "      --disabled-bg-color: #DDD;\n",
              "  }\n",
              "\n",
              "  [theme=dark] .colab-df-quickchart {\n",
              "      --bg-color: #3B4455;\n",
              "      --fill-color: #D2E3FC;\n",
              "      --hover-bg-color: #434B5C;\n",
              "      --hover-fill-color: #FFFFFF;\n",
              "      --disabled-bg-color: #3B4455;\n",
              "      --disabled-fill-color: #666;\n",
              "  }\n",
              "\n",
              "  .colab-df-quickchart {\n",
              "    background-color: var(--bg-color);\n",
              "    border: none;\n",
              "    border-radius: 50%;\n",
              "    cursor: pointer;\n",
              "    display: none;\n",
              "    fill: var(--fill-color);\n",
              "    height: 32px;\n",
              "    padding: 0;\n",
              "    width: 32px;\n",
              "  }\n",
              "\n",
              "  .colab-df-quickchart:hover {\n",
              "    background-color: var(--hover-bg-color);\n",
              "    box-shadow: 0 1px 2px rgba(60, 64, 67, 0.3), 0 1px 3px 1px rgba(60, 64, 67, 0.15);\n",
              "    fill: var(--button-hover-fill-color);\n",
              "  }\n",
              "\n",
              "  .colab-df-quickchart-complete:disabled,\n",
              "  .colab-df-quickchart-complete:disabled:hover {\n",
              "    background-color: var(--disabled-bg-color);\n",
              "    fill: var(--disabled-fill-color);\n",
              "    box-shadow: none;\n",
              "  }\n",
              "\n",
              "  .colab-df-spinner {\n",
              "    border: 2px solid var(--fill-color);\n",
              "    border-color: transparent;\n",
              "    border-bottom-color: var(--fill-color);\n",
              "    animation:\n",
              "      spin 1s steps(1) infinite;\n",
              "  }\n",
              "\n",
              "  @keyframes spin {\n",
              "    0% {\n",
              "      border-color: transparent;\n",
              "      border-bottom-color: var(--fill-color);\n",
              "      border-left-color: var(--fill-color);\n",
              "    }\n",
              "    20% {\n",
              "      border-color: transparent;\n",
              "      border-left-color: var(--fill-color);\n",
              "      border-top-color: var(--fill-color);\n",
              "    }\n",
              "    30% {\n",
              "      border-color: transparent;\n",
              "      border-left-color: var(--fill-color);\n",
              "      border-top-color: var(--fill-color);\n",
              "      border-right-color: var(--fill-color);\n",
              "    }\n",
              "    40% {\n",
              "      border-color: transparent;\n",
              "      border-right-color: var(--fill-color);\n",
              "      border-top-color: var(--fill-color);\n",
              "    }\n",
              "    60% {\n",
              "      border-color: transparent;\n",
              "      border-right-color: var(--fill-color);\n",
              "    }\n",
              "    80% {\n",
              "      border-color: transparent;\n",
              "      border-right-color: var(--fill-color);\n",
              "      border-bottom-color: var(--fill-color);\n",
              "    }\n",
              "    90% {\n",
              "      border-color: transparent;\n",
              "      border-bottom-color: var(--fill-color);\n",
              "    }\n",
              "  }\n",
              "</style>\n",
              "\n",
              "      <script>\n",
              "        async function quickchart(key) {\n",
              "          const quickchartButtonEl =\n",
              "            document.querySelector('#' + key + ' button');\n",
              "          quickchartButtonEl.disabled = true;  // To prevent multiple clicks.\n",
              "          quickchartButtonEl.classList.add('colab-df-spinner');\n",
              "          try {\n",
              "            const charts = await google.colab.kernel.invokeFunction(\n",
              "                'suggestCharts', [key], {});\n",
              "          } catch (error) {\n",
              "            console.error('Error during call to suggestCharts:', error);\n",
              "          }\n",
              "          quickchartButtonEl.classList.remove('colab-df-spinner');\n",
              "          quickchartButtonEl.classList.add('colab-df-quickchart-complete');\n",
              "        }\n",
              "        (() => {\n",
              "          let quickchartButtonEl =\n",
              "            document.querySelector('#df-a769613e-4e21-4fe0-b076-56d55c0b600d button');\n",
              "          quickchartButtonEl.style.display =\n",
              "            google.colab.kernel.accessAllowed ? 'block' : 'none';\n",
              "        })();\n",
              "      </script>\n",
              "    </div>\n",
              "\n",
              "    </div>\n",
              "  </div>\n"
            ],
            "application/vnd.google.colaboratory.intrinsic+json": {
              "type": "dataframe",
              "summary": "{\n  \"name\": \"df\",\n  \"rows\": 5,\n  \"fields\": [\n    {\n      \"column\": \"sequence_anomaly_confidence_threshold\",\n      \"properties\": {\n        \"dtype\": \"number\",\n        \"std\": 1.2412670766236366e-16,\n        \"min\": 0.87,\n        \"max\": 0.87,\n        \"num_unique_values\": 1,\n        \"samples\": [\n          0.87\n        ],\n        \"semantic_type\": \"\",\n        \"description\": \"\"\n      }\n    },\n    {\n      \"column\": \"video_anomaly_proportion_threshold\",\n      \"properties\": {\n        \"dtype\": \"number\",\n        \"std\": 0.001581138830084188,\n        \"min\": 0.04,\n        \"max\": 0.044,\n        \"num_unique_values\": 5,\n        \"samples\": [\n          0.041\n        ],\n        \"semantic_type\": \"\",\n        \"description\": \"\"\n      }\n    },\n    {\n      \"column\": \"precision\",\n      \"properties\": {\n        \"dtype\": \"number\",\n        \"std\": 1.2412670766236366e-16,\n        \"min\": 0.8482758620689655,\n        \"max\": 0.8482758620689655,\n        \"num_unique_values\": 1,\n        \"samples\": [\n          0.8482758620689655\n        ],\n        \"semantic_type\": \"\",\n        \"description\": \"\"\n      }\n    },\n    {\n      \"column\": \"recall\",\n      \"properties\": {\n        \"dtype\": \"number\",\n        \"std\": 1.2412670766236366e-16,\n        \"min\": 0.8601398601398601,\n        \"max\": 0.8601398601398601,\n        \"num_unique_values\": 1,\n        \"samples\": [\n          0.8601398601398601\n        ],\n        \"semantic_type\": \"\",\n        \"description\": \"\"\n      }\n    },\n    {\n      \"column\": \"f1\",\n      \"properties\": {\n        \"dtype\": \"number\",\n        \"std\": 0.0,\n        \"min\": 0.8541666666666666,\n        \"max\": 0.8541666666666666,\n        \"num_unique_values\": 1,\n        \"samples\": [\n          0.8541666666666666\n        ],\n        \"semantic_type\": \"\",\n        \"description\": \"\"\n      }\n    },\n    {\n      \"column\": \"roc_auc\",\n      \"properties\": {\n        \"dtype\": \"number\",\n        \"std\": 1.2412670766236366e-16,\n        \"min\": 0.9374076627597753,\n        \"max\": 0.9374076627597753,\n        \"num_unique_values\": 1,\n        \"samples\": [\n          0.9374076627597753\n        ],\n        \"semantic_type\": \"\",\n        \"description\": \"\"\n      }\n    },\n    {\n      \"column\": \"accuracy\",\n      \"properties\": {\n        \"dtype\": \"number\",\n        \"std\": 1.2412670766236366e-16,\n        \"min\": 0.8526315789473684,\n        \"max\": 0.8526315789473684,\n        \"num_unique_values\": 1,\n        \"samples\": [\n          0.8526315789473684\n        ],\n        \"semantic_type\": \"\",\n        \"description\": \"\"\n      }\n    }\n  ]\n}"
            }
          },
          "metadata": {},
          "execution_count": 17
        }
      ]
    },
    {
      "cell_type": "code",
      "source": [
        "df.sort_values(by=\"precision\", ascending=False).head()"
      ],
      "metadata": {
        "colab": {
          "base_uri": "https://localhost:8080/",
          "height": 226
        },
        "id": "beQs0dhCboR-",
        "outputId": "8a098652-2de0-4c56-eef2-340c07355cd1"
      },
      "execution_count": null,
      "outputs": [
        {
          "output_type": "execute_result",
          "data": {
            "text/plain": [
              "     sequence_anomaly_confidence_threshold  \\\n",
              "112                                   0.90   \n",
              "114                                   0.90   \n",
              "83                                    0.89   \n",
              "82                                    0.89   \n",
              "84                                    0.89   \n",
              "\n",
              "     video_anomaly_proportion_threshold  precision    recall        f1  \\\n",
              "112                               0.059   0.897059  0.853147  0.874552   \n",
              "114                               0.061   0.897059  0.853147  0.874552   \n",
              "83                                0.061   0.897059  0.853147  0.874552   \n",
              "82                                0.060   0.897059  0.853147  0.874552   \n",
              "84                                0.062   0.897059  0.853147  0.874552   \n",
              "\n",
              "      roc_auc  accuracy  \n",
              "112  0.937408  0.877193  \n",
              "114  0.937408  0.877193  \n",
              "83   0.937408  0.877193  \n",
              "82   0.937408  0.877193  \n",
              "84   0.937408  0.877193  "
            ],
            "text/html": [
              "\n",
              "  <div id=\"df-cbf42403-a42a-4941-8e07-6547df0b88da\" class=\"colab-df-container\">\n",
              "    <div>\n",
              "<style scoped>\n",
              "    .dataframe tbody tr th:only-of-type {\n",
              "        vertical-align: middle;\n",
              "    }\n",
              "\n",
              "    .dataframe tbody tr th {\n",
              "        vertical-align: top;\n",
              "    }\n",
              "\n",
              "    .dataframe thead th {\n",
              "        text-align: right;\n",
              "    }\n",
              "</style>\n",
              "<table border=\"1\" class=\"dataframe\">\n",
              "  <thead>\n",
              "    <tr style=\"text-align: right;\">\n",
              "      <th></th>\n",
              "      <th>sequence_anomaly_confidence_threshold</th>\n",
              "      <th>video_anomaly_proportion_threshold</th>\n",
              "      <th>precision</th>\n",
              "      <th>recall</th>\n",
              "      <th>f1</th>\n",
              "      <th>roc_auc</th>\n",
              "      <th>accuracy</th>\n",
              "    </tr>\n",
              "  </thead>\n",
              "  <tbody>\n",
              "    <tr>\n",
              "      <th>112</th>\n",
              "      <td>0.90</td>\n",
              "      <td>0.059</td>\n",
              "      <td>0.897059</td>\n",
              "      <td>0.853147</td>\n",
              "      <td>0.874552</td>\n",
              "      <td>0.937408</td>\n",
              "      <td>0.877193</td>\n",
              "    </tr>\n",
              "    <tr>\n",
              "      <th>114</th>\n",
              "      <td>0.90</td>\n",
              "      <td>0.061</td>\n",
              "      <td>0.897059</td>\n",
              "      <td>0.853147</td>\n",
              "      <td>0.874552</td>\n",
              "      <td>0.937408</td>\n",
              "      <td>0.877193</td>\n",
              "    </tr>\n",
              "    <tr>\n",
              "      <th>83</th>\n",
              "      <td>0.89</td>\n",
              "      <td>0.061</td>\n",
              "      <td>0.897059</td>\n",
              "      <td>0.853147</td>\n",
              "      <td>0.874552</td>\n",
              "      <td>0.937408</td>\n",
              "      <td>0.877193</td>\n",
              "    </tr>\n",
              "    <tr>\n",
              "      <th>82</th>\n",
              "      <td>0.89</td>\n",
              "      <td>0.060</td>\n",
              "      <td>0.897059</td>\n",
              "      <td>0.853147</td>\n",
              "      <td>0.874552</td>\n",
              "      <td>0.937408</td>\n",
              "      <td>0.877193</td>\n",
              "    </tr>\n",
              "    <tr>\n",
              "      <th>84</th>\n",
              "      <td>0.89</td>\n",
              "      <td>0.062</td>\n",
              "      <td>0.897059</td>\n",
              "      <td>0.853147</td>\n",
              "      <td>0.874552</td>\n",
              "      <td>0.937408</td>\n",
              "      <td>0.877193</td>\n",
              "    </tr>\n",
              "  </tbody>\n",
              "</table>\n",
              "</div>\n",
              "    <div class=\"colab-df-buttons\">\n",
              "\n",
              "  <div class=\"colab-df-container\">\n",
              "    <button class=\"colab-df-convert\" onclick=\"convertToInteractive('df-cbf42403-a42a-4941-8e07-6547df0b88da')\"\n",
              "            title=\"Convert this dataframe to an interactive table.\"\n",
              "            style=\"display:none;\">\n",
              "\n",
              "  <svg xmlns=\"http://www.w3.org/2000/svg\" height=\"24px\" viewBox=\"0 -960 960 960\">\n",
              "    <path d=\"M120-120v-720h720v720H120Zm60-500h600v-160H180v160Zm220 220h160v-160H400v160Zm0 220h160v-160H400v160ZM180-400h160v-160H180v160Zm440 0h160v-160H620v160ZM180-180h160v-160H180v160Zm440 0h160v-160H620v160Z\"/>\n",
              "  </svg>\n",
              "    </button>\n",
              "\n",
              "  <style>\n",
              "    .colab-df-container {\n",
              "      display:flex;\n",
              "      gap: 12px;\n",
              "    }\n",
              "\n",
              "    .colab-df-convert {\n",
              "      background-color: #E8F0FE;\n",
              "      border: none;\n",
              "      border-radius: 50%;\n",
              "      cursor: pointer;\n",
              "      display: none;\n",
              "      fill: #1967D2;\n",
              "      height: 32px;\n",
              "      padding: 0 0 0 0;\n",
              "      width: 32px;\n",
              "    }\n",
              "\n",
              "    .colab-df-convert:hover {\n",
              "      background-color: #E2EBFA;\n",
              "      box-shadow: 0px 1px 2px rgba(60, 64, 67, 0.3), 0px 1px 3px 1px rgba(60, 64, 67, 0.15);\n",
              "      fill: #174EA6;\n",
              "    }\n",
              "\n",
              "    .colab-df-buttons div {\n",
              "      margin-bottom: 4px;\n",
              "    }\n",
              "\n",
              "    [theme=dark] .colab-df-convert {\n",
              "      background-color: #3B4455;\n",
              "      fill: #D2E3FC;\n",
              "    }\n",
              "\n",
              "    [theme=dark] .colab-df-convert:hover {\n",
              "      background-color: #434B5C;\n",
              "      box-shadow: 0px 1px 3px 1px rgba(0, 0, 0, 0.15);\n",
              "      filter: drop-shadow(0px 1px 2px rgba(0, 0, 0, 0.3));\n",
              "      fill: #FFFFFF;\n",
              "    }\n",
              "  </style>\n",
              "\n",
              "    <script>\n",
              "      const buttonEl =\n",
              "        document.querySelector('#df-cbf42403-a42a-4941-8e07-6547df0b88da button.colab-df-convert');\n",
              "      buttonEl.style.display =\n",
              "        google.colab.kernel.accessAllowed ? 'block' : 'none';\n",
              "\n",
              "      async function convertToInteractive(key) {\n",
              "        const element = document.querySelector('#df-cbf42403-a42a-4941-8e07-6547df0b88da');\n",
              "        const dataTable =\n",
              "          await google.colab.kernel.invokeFunction('convertToInteractive',\n",
              "                                                    [key], {});\n",
              "        if (!dataTable) return;\n",
              "\n",
              "        const docLinkHtml = 'Like what you see? Visit the ' +\n",
              "          '<a target=\"_blank\" href=https://colab.research.google.com/notebooks/data_table.ipynb>data table notebook</a>'\n",
              "          + ' to learn more about interactive tables.';\n",
              "        element.innerHTML = '';\n",
              "        dataTable['output_type'] = 'display_data';\n",
              "        await google.colab.output.renderOutput(dataTable, element);\n",
              "        const docLink = document.createElement('div');\n",
              "        docLink.innerHTML = docLinkHtml;\n",
              "        element.appendChild(docLink);\n",
              "      }\n",
              "    </script>\n",
              "  </div>\n",
              "\n",
              "\n",
              "    <div id=\"df-30fb8490-213c-4cda-92df-aa38abd4555e\">\n",
              "      <button class=\"colab-df-quickchart\" onclick=\"quickchart('df-30fb8490-213c-4cda-92df-aa38abd4555e')\"\n",
              "                title=\"Suggest charts\"\n",
              "                style=\"display:none;\">\n",
              "\n",
              "<svg xmlns=\"http://www.w3.org/2000/svg\" height=\"24px\"viewBox=\"0 0 24 24\"\n",
              "     width=\"24px\">\n",
              "    <g>\n",
              "        <path d=\"M19 3H5c-1.1 0-2 .9-2 2v14c0 1.1.9 2 2 2h14c1.1 0 2-.9 2-2V5c0-1.1-.9-2-2-2zM9 17H7v-7h2v7zm4 0h-2V7h2v10zm4 0h-2v-4h2v4z\"/>\n",
              "    </g>\n",
              "</svg>\n",
              "      </button>\n",
              "\n",
              "<style>\n",
              "  .colab-df-quickchart {\n",
              "      --bg-color: #E8F0FE;\n",
              "      --fill-color: #1967D2;\n",
              "      --hover-bg-color: #E2EBFA;\n",
              "      --hover-fill-color: #174EA6;\n",
              "      --disabled-fill-color: #AAA;\n",
              "      --disabled-bg-color: #DDD;\n",
              "  }\n",
              "\n",
              "  [theme=dark] .colab-df-quickchart {\n",
              "      --bg-color: #3B4455;\n",
              "      --fill-color: #D2E3FC;\n",
              "      --hover-bg-color: #434B5C;\n",
              "      --hover-fill-color: #FFFFFF;\n",
              "      --disabled-bg-color: #3B4455;\n",
              "      --disabled-fill-color: #666;\n",
              "  }\n",
              "\n",
              "  .colab-df-quickchart {\n",
              "    background-color: var(--bg-color);\n",
              "    border: none;\n",
              "    border-radius: 50%;\n",
              "    cursor: pointer;\n",
              "    display: none;\n",
              "    fill: var(--fill-color);\n",
              "    height: 32px;\n",
              "    padding: 0;\n",
              "    width: 32px;\n",
              "  }\n",
              "\n",
              "  .colab-df-quickchart:hover {\n",
              "    background-color: var(--hover-bg-color);\n",
              "    box-shadow: 0 1px 2px rgba(60, 64, 67, 0.3), 0 1px 3px 1px rgba(60, 64, 67, 0.15);\n",
              "    fill: var(--button-hover-fill-color);\n",
              "  }\n",
              "\n",
              "  .colab-df-quickchart-complete:disabled,\n",
              "  .colab-df-quickchart-complete:disabled:hover {\n",
              "    background-color: var(--disabled-bg-color);\n",
              "    fill: var(--disabled-fill-color);\n",
              "    box-shadow: none;\n",
              "  }\n",
              "\n",
              "  .colab-df-spinner {\n",
              "    border: 2px solid var(--fill-color);\n",
              "    border-color: transparent;\n",
              "    border-bottom-color: var(--fill-color);\n",
              "    animation:\n",
              "      spin 1s steps(1) infinite;\n",
              "  }\n",
              "\n",
              "  @keyframes spin {\n",
              "    0% {\n",
              "      border-color: transparent;\n",
              "      border-bottom-color: var(--fill-color);\n",
              "      border-left-color: var(--fill-color);\n",
              "    }\n",
              "    20% {\n",
              "      border-color: transparent;\n",
              "      border-left-color: var(--fill-color);\n",
              "      border-top-color: var(--fill-color);\n",
              "    }\n",
              "    30% {\n",
              "      border-color: transparent;\n",
              "      border-left-color: var(--fill-color);\n",
              "      border-top-color: var(--fill-color);\n",
              "      border-right-color: var(--fill-color);\n",
              "    }\n",
              "    40% {\n",
              "      border-color: transparent;\n",
              "      border-right-color: var(--fill-color);\n",
              "      border-top-color: var(--fill-color);\n",
              "    }\n",
              "    60% {\n",
              "      border-color: transparent;\n",
              "      border-right-color: var(--fill-color);\n",
              "    }\n",
              "    80% {\n",
              "      border-color: transparent;\n",
              "      border-right-color: var(--fill-color);\n",
              "      border-bottom-color: var(--fill-color);\n",
              "    }\n",
              "    90% {\n",
              "      border-color: transparent;\n",
              "      border-bottom-color: var(--fill-color);\n",
              "    }\n",
              "  }\n",
              "</style>\n",
              "\n",
              "      <script>\n",
              "        async function quickchart(key) {\n",
              "          const quickchartButtonEl =\n",
              "            document.querySelector('#' + key + ' button');\n",
              "          quickchartButtonEl.disabled = true;  // To prevent multiple clicks.\n",
              "          quickchartButtonEl.classList.add('colab-df-spinner');\n",
              "          try {\n",
              "            const charts = await google.colab.kernel.invokeFunction(\n",
              "                'suggestCharts', [key], {});\n",
              "          } catch (error) {\n",
              "            console.error('Error during call to suggestCharts:', error);\n",
              "          }\n",
              "          quickchartButtonEl.classList.remove('colab-df-spinner');\n",
              "          quickchartButtonEl.classList.add('colab-df-quickchart-complete');\n",
              "        }\n",
              "        (() => {\n",
              "          let quickchartButtonEl =\n",
              "            document.querySelector('#df-30fb8490-213c-4cda-92df-aa38abd4555e button');\n",
              "          quickchartButtonEl.style.display =\n",
              "            google.colab.kernel.accessAllowed ? 'block' : 'none';\n",
              "        })();\n",
              "      </script>\n",
              "    </div>\n",
              "\n",
              "    </div>\n",
              "  </div>\n"
            ],
            "application/vnd.google.colaboratory.intrinsic+json": {
              "type": "dataframe",
              "summary": "{\n  \"name\": \"df\",\n  \"rows\": 5,\n  \"fields\": [\n    {\n      \"column\": \"sequence_anomaly_confidence_threshold\",\n      \"properties\": {\n        \"dtype\": \"number\",\n        \"std\": 0.0054772255750516665,\n        \"min\": 0.89,\n        \"max\": 0.9,\n        \"num_unique_values\": 2,\n        \"samples\": [\n          0.89,\n          0.9\n        ],\n        \"semantic_type\": \"\",\n        \"description\": \"\"\n      }\n    },\n    {\n      \"column\": \"video_anomaly_proportion_threshold\",\n      \"properties\": {\n        \"dtype\": \"number\",\n        \"std\": 0.001140175425099139,\n        \"min\": 0.059,\n        \"max\": 0.062,\n        \"num_unique_values\": 4,\n        \"samples\": [\n          0.061,\n          0.062\n        ],\n        \"semantic_type\": \"\",\n        \"description\": \"\"\n      }\n    },\n    {\n      \"column\": \"precision\",\n      \"properties\": {\n        \"dtype\": \"number\",\n        \"std\": 0.0,\n        \"min\": 0.8970588235294118,\n        \"max\": 0.8970588235294118,\n        \"num_unique_values\": 1,\n        \"samples\": [\n          0.8970588235294118\n        ],\n        \"semantic_type\": \"\",\n        \"description\": \"\"\n      }\n    },\n    {\n      \"column\": \"recall\",\n      \"properties\": {\n        \"dtype\": \"number\",\n        \"std\": 0.0,\n        \"min\": 0.8531468531468531,\n        \"max\": 0.8531468531468531,\n        \"num_unique_values\": 1,\n        \"samples\": [\n          0.8531468531468531\n        ],\n        \"semantic_type\": \"\",\n        \"description\": \"\"\n      }\n    },\n    {\n      \"column\": \"f1\",\n      \"properties\": {\n        \"dtype\": \"number\",\n        \"std\": 0.0,\n        \"min\": 0.8745519713261649,\n        \"max\": 0.8745519713261649,\n        \"num_unique_values\": 1,\n        \"samples\": [\n          0.8745519713261649\n        ],\n        \"semantic_type\": \"\",\n        \"description\": \"\"\n      }\n    },\n    {\n      \"column\": \"roc_auc\",\n      \"properties\": {\n        \"dtype\": \"number\",\n        \"std\": 1.2412670766236366e-16,\n        \"min\": 0.9374076627597753,\n        \"max\": 0.9374076627597753,\n        \"num_unique_values\": 1,\n        \"samples\": [\n          0.9374076627597753\n        ],\n        \"semantic_type\": \"\",\n        \"description\": \"\"\n      }\n    },\n    {\n      \"column\": \"accuracy\",\n      \"properties\": {\n        \"dtype\": \"number\",\n        \"std\": 1.2412670766236366e-16,\n        \"min\": 0.8771929824561403,\n        \"max\": 0.8771929824561403,\n        \"num_unique_values\": 1,\n        \"samples\": [\n          0.8771929824561403\n        ],\n        \"semantic_type\": \"\",\n        \"description\": \"\"\n      }\n    }\n  ]\n}"
            }
          },
          "metadata": {},
          "execution_count": 18
        }
      ]
    },
    {
      "cell_type": "markdown",
      "source": [
        "The choice of thresholds depends on the desired balance between recall and precision:\n",
        "\n",
        "1. To prioritize high recall — ensuring that most anomalies are detected, even at the cost of some additional false positives — use:\n",
        "\n",
        "    sequence_anomaly_confidence_threshold = 0.87\n",
        "    video_anomaly_proportion_threshold = 0.04\n",
        "*************************************************************\n",
        "\n",
        "2. If false alarms are costly and a more balanced trade-off is preferred — minimizing unnecessary alerts while still detecting anomalies effectively — use the configuration that maximizes precision and F1 score - use:\n",
        "\n",
        "    sequence_anomaly_confidence_threshold = 0.90\n",
        "    video_anomaly_proportion_threshold = 0.059"
      ],
      "metadata": {
        "id": "qF0kQzrwZ92d"
      }
    },
    {
      "cell_type": "code",
      "source": [
        "import numpy as np\n",
        "import tensorflow as tf\n",
        "from tensorflow.keras.models import load_model\n",
        "from sklearn.metrics import (\n",
        "    accuracy_score, precision_score, recall_score,\n",
        "    f1_score, roc_auc_score, confusion_matrix, classification_report\n",
        ")\n",
        "from tqdm import tqdm\n",
        "\n",
        "\n",
        "# Example config\n",
        "model_paths = {\n",
        "    \"mean\": \"mean.keras\",\n",
        "    \"max\": \"max.keras\",\n",
        "    \"flatten\": \"flatten.keras\",\n",
        "    \"cnn\": \"cnn.keras\",\n",
        "    \"lstm\": \"lstm.keras\",\n",
        "    \"gru\": \"gru.keras\"\n",
        "}\n",
        "\n",
        "import os\n",
        "import numpy as np\n",
        "from tqdm import tqdm\n",
        "\n",
        "def load_video_split(split_dir):\n",
        "    \"\"\"\n",
        "    Loads all videos in split_dir (should have normal/ & anomaly/)\n",
        "    Returns list of dicts: [{ 'label': 0/1, 'sequences': np.array(...) }, ...]\n",
        "    \"\"\"\n",
        "    video_data = []\n",
        "    LABEL_MAP = {'normal': 0, 'anomaly': 1}\n",
        "\n",
        "    for label in ['normal', 'anomaly']:\n",
        "        label_dir = os.path.join(split_dir, label)\n",
        "        if not os.path.isdir(label_dir):\n",
        "            continue\n",
        "        for video_name in tqdm(os.listdir(label_dir), desc=f\"Loading {label} videos\", unit=\"video\"):\n",
        "            video_path = os.path.join(label_dir, video_name)\n",
        "            if not os.path.isdir(video_path):\n",
        "                continue\n",
        "            sequences = []\n",
        "            for file in sorted(os.listdir(video_path)):\n",
        "                if file.endswith('.npz'):\n",
        "                    arr = np.load(os.path.join(video_path, file))['feature_array']\n",
        "                    sequences.append(arr)\n",
        "            if sequences:\n",
        "                video_data.append({\n",
        "                    'label': LABEL_MAP[label],\n",
        "                    'sequences': np.array(sequences)\n",
        "                })\n",
        "    return video_data\n",
        "\n",
        "\n",
        "\n",
        "# === Core prediction ===\n",
        "@tf.function(reduce_retracing=True)\n",
        "def predict_model(model, inputs):\n",
        "    return model(inputs, training=False)\n",
        "\n",
        "# === Per-video prediction ===\n",
        "def predict_video_label_and_score(sequences, models, conf_thresh, threshold_percent):\n",
        "    if len(sequences) == 0:\n",
        "        return 0, 0.5\n",
        "    all_preds = [predict_model(model, sequences).numpy().squeeze() for model in models.values()]\n",
        "    avg_preds = np.mean(np.stack(all_preds), axis=0)\n",
        "    high_conf = np.sum(avg_preds >= conf_thresh)\n",
        "    threshold_count = max(1, int(np.ceil(len(sequences) * threshold_percent)))\n",
        "    pred = int(high_conf >= threshold_count)\n",
        "    return pred, np.mean(avg_preds)\n",
        "\n",
        "# ✅ All-in-one function: loads models, predicts, prints\n",
        "def evaluate_split_with_ensemble(\n",
        "    video_data,\n",
        "    model_paths,\n",
        "    sequence_anomaly_confidence_threshold=0.89,\n",
        "    video_anomaly_proportion_threshold=0.059,\n",
        "    desc=\"Evaluating\"\n",
        "):\n",
        "    print(\"🔄 Loading models...\")\n",
        "    models = {name: load_model(path) for name, path in model_paths.items()}\n",
        "    print(f\"✅ {len(models)} models loaded.\\n\")\n",
        "\n",
        "    y_true, y_pred, y_scores = [], [], []\n",
        "\n",
        "    for vid in tqdm(video_data, desc=desc, unit=\"video\"):\n",
        "        pred, score = predict_video_label_and_score(\n",
        "            vid['sequences'], models, sequence_anomaly_confidence_threshold, video_anomaly_proportion_threshold\n",
        "        )\n",
        "        y_true.append(vid['label'])\n",
        "        y_pred.append(pred)\n",
        "        y_scores.append(score)\n",
        "\n",
        "    try:\n",
        "        roc_auc = roc_auc_score(y_true, y_scores)\n",
        "    except:\n",
        "        roc_auc = np.nan\n",
        "\n",
        "    metrics = {\n",
        "        \"accuracy\": accuracy_score(y_true, y_pred),\n",
        "        \"precision\": precision_score(y_true, y_pred, zero_division=0),\n",
        "        \"recall\": recall_score(y_true, y_pred, zero_division=0),\n",
        "        \"f1\": f1_score(y_true, y_pred, zero_division=0),\n",
        "        \"roc_auc\": roc_auc,\n",
        "        \"confusion_matrix\": confusion_matrix(y_true, y_pred),\n",
        "        \"classification_report\": classification_report(y_true, y_pred)\n",
        "    }\n",
        "\n",
        "    print(\"\\n✅ Evaluation Results\")\n",
        "    print(f\"→ Accuracy : {metrics['accuracy']:.4f}\")\n",
        "    print(f\"→ Precision: {metrics['precision']:.4f}\")\n",
        "    print(f\"→ Recall   : {metrics['recall']:.4f}\")\n",
        "    print(f\"→ F1 Score : {metrics['f1']:.4f}\")\n",
        "    print(f\"→ ROC AUC  : {metrics['roc_auc']:.4f}\")\n",
        "    print(f\"\\n📊 Confusion Matrix:\\n{metrics['confusion_matrix']}\")\n",
        "    print(f\"\\n📋 Classification Report:\\n{metrics['classification_report']}\")\n",
        "\n",
        "    return metrics\n"
      ],
      "metadata": {
        "id": "Y6RWFdCWWBrX"
      },
      "execution_count": null,
      "outputs": []
    },
    {
      "cell_type": "code",
      "source": [
        "# Load val data:\n",
        "test_video_data = load_video_split('/content/ucf-crime-splitted-i3d-features/val')\n",
        "\n",
        "# Then run the eval:\n",
        "results = evaluate_split_with_ensemble(\n",
        "    video_data=test_video_data,\n",
        "    model_paths=model_paths,\n",
        "    sequence_anomaly_confidence_threshold=0.90,\n",
        "    video_anomaly_proportion_threshold=0.059\n",
        ")\n"
      ],
      "metadata": {
        "colab": {
          "base_uri": "https://localhost:8080/"
        },
        "id": "HsJgfn2BzoC-",
        "outputId": "cb0166e9-eaa6-49b2-87f1-c29f8992fc30"
      },
      "execution_count": null,
      "outputs": [
        {
          "output_type": "stream",
          "name": "stderr",
          "text": [
            "Loading normal videos: 100%|██████████| 142/142 [00:04<00:00, 31.31video/s]\n",
            "Loading anomaly videos: 100%|██████████| 143/143 [00:04<00:00, 30.70video/s]\n"
          ]
        },
        {
          "output_type": "stream",
          "name": "stdout",
          "text": [
            "🔄 Loading models...\n",
            "✅ 6 models loaded.\n",
            "\n"
          ]
        },
        {
          "output_type": "stream",
          "name": "stderr",
          "text": [
            "\rEvaluating:   0%|          | 0/285 [00:00<?, ?video/s]WARNING:tensorflow:5 out of the last 5 calls to <function predict_model at 0x792792507d80> triggered tf.function retracing. Tracing is expensive and the excessive number of tracings could be due to (1) creating @tf.function repeatedly in a loop, (2) passing tensors with different shapes, (3) passing Python objects instead of tensors. For (1), please define your @tf.function outside of the loop. For (2), @tf.function has reduce_retracing=True option that can avoid unnecessary retracing. For (3), please refer to https://www.tensorflow.org/guide/function#controlling_retracing and https://www.tensorflow.org/api_docs/python/tf/function for  more details.\n",
            "WARNING:tensorflow:6 out of the last 6 calls to <function predict_model at 0x792792507d80> triggered tf.function retracing. Tracing is expensive and the excessive number of tracings could be due to (1) creating @tf.function repeatedly in a loop, (2) passing tensors with different shapes, (3) passing Python objects instead of tensors. For (1), please define your @tf.function outside of the loop. For (2), @tf.function has reduce_retracing=True option that can avoid unnecessary retracing. For (3), please refer to https://www.tensorflow.org/guide/function#controlling_retracing and https://www.tensorflow.org/api_docs/python/tf/function for  more details.\n",
            "Evaluating: 100%|██████████| 285/285 [00:14<00:00, 19.65video/s]"
          ]
        },
        {
          "output_type": "stream",
          "name": "stdout",
          "text": [
            "\n",
            "✅ Evaluation Results\n",
            "→ Accuracy : 0.8772\n",
            "→ Precision: 0.8971\n",
            "→ Recall   : 0.8531\n",
            "→ F1 Score : 0.8746\n",
            "→ ROC AUC  : 0.9374\n",
            "\n",
            "📊 Confusion Matrix:\n",
            "[[128  14]\n",
            " [ 21 122]]\n",
            "\n",
            "📋 Classification Report:\n",
            "              precision    recall  f1-score   support\n",
            "\n",
            "           0       0.86      0.90      0.88       142\n",
            "           1       0.90      0.85      0.87       143\n",
            "\n",
            "    accuracy                           0.88       285\n",
            "   macro avg       0.88      0.88      0.88       285\n",
            "weighted avg       0.88      0.88      0.88       285\n",
            "\n"
          ]
        },
        {
          "output_type": "stream",
          "name": "stderr",
          "text": [
            "\n"
          ]
        }
      ]
    },
    {
      "cell_type": "markdown",
      "source": [
        "## Final Evaluation on Test Set (Video-Level)\n",
        "We now evaluate on the test set using the best-performing threshold from the validation set\n"
      ],
      "metadata": {
        "id": "p3BaDO-vy-Go"
      }
    },
    {
      "cell_type": "code",
      "source": [
        "# Load test data:\n",
        "test_video_data = load_video_split('/content/ucf-crime-splitted-i3d-features/test')\n",
        "\n",
        "# Then run the eval:\n",
        "results = evaluate_split_with_ensemble(\n",
        "    video_data=test_video_data,\n",
        "    model_paths=model_paths,\n",
        "    sequence_anomaly_confidence_threshold=0.90,\n",
        "    video_anomaly_proportion_threshold=0.059\n",
        ")\n"
      ],
      "metadata": {
        "colab": {
          "base_uri": "https://localhost:8080/"
        },
        "id": "acMv5pNJWIsl",
        "outputId": "1572322f-1a9c-4cba-e310-993cfc75b0a5"
      },
      "execution_count": null,
      "outputs": [
        {
          "output_type": "stream",
          "name": "stderr",
          "text": [
            "Loading normal videos: 100%|██████████| 143/143 [00:03<00:00, 35.79video/s]\n",
            "Loading anomaly videos: 100%|██████████| 142/142 [00:04<00:00, 34.05video/s]\n"
          ]
        },
        {
          "output_type": "stream",
          "name": "stdout",
          "text": [
            "🔄 Loading models...\n",
            "✅ 6 models loaded.\n",
            "\n"
          ]
        },
        {
          "output_type": "stream",
          "name": "stderr",
          "text": [
            "Evaluating: 100%|██████████| 285/285 [00:17<00:00, 16.45video/s]"
          ]
        },
        {
          "output_type": "stream",
          "name": "stdout",
          "text": [
            "\n",
            "✅ Evaluation Results\n",
            "→ Accuracy : 0.8842\n",
            "→ Precision: 0.8978\n",
            "→ Recall   : 0.8662\n",
            "→ F1 Score : 0.8817\n",
            "→ ROC AUC  : 0.9339\n",
            "\n",
            "📊 Confusion Matrix:\n",
            "[[129  14]\n",
            " [ 19 123]]\n",
            "\n",
            "📋 Classification Report:\n",
            "              precision    recall  f1-score   support\n",
            "\n",
            "           0       0.87      0.90      0.89       143\n",
            "           1       0.90      0.87      0.88       142\n",
            "\n",
            "    accuracy                           0.88       285\n",
            "   macro avg       0.88      0.88      0.88       285\n",
            "weighted avg       0.88      0.88      0.88       285\n",
            "\n"
          ]
        },
        {
          "output_type": "stream",
          "name": "stderr",
          "text": [
            "\n"
          ]
        }
      ]
    }
  ]
}